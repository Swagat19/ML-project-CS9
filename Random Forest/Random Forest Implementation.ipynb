{
 "cells": [
  {
   "cell_type": "code",
   "execution_count": 3,
   "id": "8e96d264",
   "metadata": {},
   "outputs": [],
   "source": [
    "import csv\n",
    "import numpy as np\n",
    "import pandas as pd\n",
    "from sklearn.model_selection import train_test_split\n",
    "import random\n",
    "\n",
    "# Load the dataset\n",
    "data = pd.read_csv('./Csv Files/SWAGAT_INPUT_income_dataset_balanced.csv')"
   ]
  },
  {
   "cell_type": "markdown",
   "id": "e47407b6",
   "metadata": {},
   "source": [
    "## Split as train and test"
   ]
  },
  {
   "cell_type": "code",
   "execution_count": 4,
   "id": "cf83015f",
   "metadata": {},
   "outputs": [
    {
     "name": "stdout",
     "output_type": "stream",
     "text": [
      "X_train shape: (31413, 12)\n",
      "X_test shape: (3491, 12)\n",
      "y_train shape: (31413,)\n",
      "y_test shape: (3491,)\n"
     ]
    }
   ],
   "source": [
    "# Define the target variable\n",
    "target_variable = 'Risk_Flag'\n",
    "# Separate features (X) and target variable (y)\n",
    "X = data.drop(columns=[target_variable])  # Features\n",
    "y = data[target_variable]                 # Target\n",
    "\n",
    "# Split the dataset into training (30,000 samples) and test sets\n",
    "X_train, X_test, y_train, y_test = train_test_split(X, y, test_size=0.1, random_state=42)\n",
    "\n",
    "# Concatenate X_train and y_train along columns to create the training dataset\n",
    "train_data = pd.concat([X_train, y_train], axis=1)\n",
    "\n",
    "# Display the shapes of the split datasets\n",
    "print(\"X_train shape:\", X_train.shape)\n",
    "print(\"X_test shape:\", X_test.shape)\n",
    "print(\"y_train shape:\", y_train.shape)\n",
    "print(\"y_test shape:\", y_test.shape)\n",
    "\n",
    "# Save the training dataset (features + target) and test dataset (features) to CSV files\n",
    "train_data.to_csv('./Csv Files/Train_Data.csv', index=False)\n",
    "X_test.to_csv('./Csv Files/Test_Data.csv', index=False)\n",
    "\n",
    "# Save the target variable for the test dataset to a CSV file\n",
    "y_test.to_csv('./Csv Files/Test_Target.csv', index=False, header=True)\n"
   ]
  },
  {
   "cell_type": "markdown",
   "id": "fee63624",
   "metadata": {},
   "source": [
    "## Training data"
   ]
  },
  {
   "cell_type": "code",
   "execution_count": 5,
   "id": "c0c70bca",
   "metadata": {},
   "outputs": [
    {
     "name": "stdout",
     "output_type": "stream",
     "text": [
      "is data clean :-  True\n",
      "0    28318\n",
      "1     3095\n",
      "Name: Married/Single, dtype: int64\n",
      "0    28933\n",
      "2     1599\n",
      "1      881\n",
      "Name: House_Ownership, dtype: int64\n",
      "0    21933\n",
      "1     9480\n",
      "Name: Car_Ownership, dtype: int64\n",
      "number of professions :-  51\n"
     ]
    }
   ],
   "source": [
    "data = pd.read_csv('./Csv Files/Train_Data.csv');\n",
    "print(\"is data clean :- \" , data.notnull().values.all())  # data is clean\n",
    "#print(\"risk :- \\n\",data[\"Risk_Flag\"].value_counts())\n",
    "input_data1 = data.copy()\n",
    "input_data1.drop(['CITY','STATE','Risk_Flag'],axis = 1 ,inplace = True)\n",
    "\n",
    "# Married \n",
    "\n",
    "input_data1['Married/Single'] = input_data1['Married/Single'].apply(lambda x : 1 if  x == 'married' else 0 )\n",
    "print(input_data1['Married/Single'].value_counts())\n",
    "\n",
    "# House ownership\n",
    "\n",
    "#print(input_data1['House_Ownership'].value_counts())\n",
    "ownership_mapping = {'rented': 0, 'norent_noown': 1, 'owned': 2}\n",
    "input_data1['House_Ownership'] = input_data1['House_Ownership'].map(ownership_mapping)\n",
    "print(input_data1['House_Ownership'].value_counts())\n",
    "\n",
    "# car ownership \n",
    "input_data1['Car_Ownership'].value_counts()\n",
    "input_data1['Car_Ownership'] = input_data1['Car_Ownership'].apply(lambda x : 1 if  x == 'yes' else 0 )\n",
    "print(input_data1['Car_Ownership'].value_counts())\n",
    "\n",
    "\n",
    "# Profession \n",
    "\n",
    "input_data1['Profession'] = input_data1['Profession'].str.replace('_', ' ')\n",
    "\n",
    "print(\"number of professions :- \",input_data1['Profession'].nunique())\n",
    "\n",
    "average_income_by_profession = input_data1.groupby('Profession')['Income'].mean()\n",
    "# Format the numbers without scientific notation and with commas as thousand separators\n",
    "average_income_by_profession = average_income_by_profession.apply(lambda x: \"{:,.2f}\".format(x))\n",
    "\n",
    "#print(\"average salary of each profession :-\\n \",average_income_by_profession)\n",
    "\n",
    "# Create a mapping for encoding based on average income\n",
    "profession_encoding = dict(zip(average_income_by_profession.sort_values().index, range(input_data1['Profession'].nunique())))\n",
    "#print(profession_encoding)\n",
    "\n",
    "# Save the DataFrame to a CSV file this will be used to encoding test data based on training data\n",
    "df = pd.DataFrame(list(profession_encoding.items()), columns=['Profession', 'Rank'])\n",
    "df.to_csv('./Csv Files/profession_rank.csv', index=False)\n",
    "\n",
    "\n",
    "# Apply the mapping to create a new column 'Profession_Encoded'\n",
    "input_data1['Profession_Encoded'] = input_data1['Profession'].map(profession_encoding)\n",
    "#print(input_data1['Profession_Encoded'].value_counts() )\n",
    "\n",
    "\n",
    "input_data1_final = input_data1.copy()\n",
    "input_data1_final.drop(['Profession'],axis = 1,inplace = True)\n",
    "#print(input_data1_final)\n",
    "output_data1 = data.filter(['Id','Risk_Flag'])\n",
    "#print(output_data1)\n",
    "\n",
    "\n",
    "# Remove id from both\n",
    "train_X = input_data1_final.copy()\n",
    "train_X.drop(['Id'],axis = 1 , inplace = True )\n",
    "train_Y = output_data1.copy()\n",
    "train_Y.drop(['Id'],axis = 1 , inplace = True)\n",
    "#print(train_X.head(10))\n",
    "#print(train_Y.head(10))\n",
    "\n",
    "# Load test data\n",
    "train_X.to_csv('./Csv Files/Train_X.csv',index=False)\n",
    "train_Y.to_csv('./Csv Files/Train_Y.csv', index=False)\n",
    "\n"
   ]
  },
  {
   "cell_type": "markdown",
   "id": "4cb2ad8c",
   "metadata": {},
   "source": [
    "## Testing data"
   ]
  },
  {
   "cell_type": "code",
   "execution_count": 6,
   "id": "2c162b75",
   "metadata": {},
   "outputs": [
    {
     "name": "stdout",
     "output_type": "stream",
     "text": [
      "is data clean :-  True\n",
      "0    3147\n",
      "1     344\n",
      "Name: Married/Single, dtype: int64\n",
      "0    3235\n",
      "2     150\n",
      "1     106\n",
      "Name: House_Ownership, dtype: int64\n",
      "0    2439\n",
      "1    1052\n",
      "Name: Car_Ownership, dtype: int64\n",
      "number of professions :-  51\n",
      "Distribution of target variable:- \n",
      " 0    1753\n",
      "1    1738\n",
      "Name: Risk_Flag, dtype: int64\n",
      "Is input pure :-  True\n"
     ]
    }
   ],
   "source": [
    "\n",
    "data = pd.read_csv('./Csv Files/Test_Data.csv');\n",
    "\n",
    "print(\"is data clean :- \" , data.notnull().values.all())  # data is clean\n",
    "\n",
    "input_data1 = data.copy()\n",
    "input_data1.drop(['CITY','STATE'],axis = 1 ,inplace = True)\n",
    "\n",
    "\n",
    "input_data1['Married/Single'] = input_data1['Married/Single'].apply(lambda x : 1 if  x == 'married' else 0 )\n",
    "print(input_data1['Married/Single'].value_counts())\n",
    "\n",
    "#print(input_data1['House_Ownership'].value_counts())\n",
    "ownership_mapping = {'rented': 0, 'norent_noown': 1, 'owned': 2}\n",
    "input_data1['House_Ownership'] = input_data1['House_Ownership'].map(ownership_mapping)\n",
    "print(input_data1['House_Ownership'].value_counts())\n",
    "\n",
    "#print(input_data1['Car_Ownership'].value_counts())\n",
    "input_data1['Car_Ownership'] = input_data1['Car_Ownership'].apply(lambda x : 1 if  x == 'yes' else 0 )\n",
    "print(input_data1['Car_Ownership'].value_counts())\n",
    "\n",
    "#print(input_data1['Profession'].value_counts())\n",
    "print(\"number of professions :- \",input_data1['Profession'].nunique())\n",
    "profession_encoding = {}\n",
    "\n",
    "# Read the CSV file and populate the dictionary\n",
    "with open('./Csv Files/profession_rank.csv', 'r', newline='') as file:\n",
    "    reader = csv.DictReader(file)\n",
    "    for row in reader:\n",
    "        profession_encoding[row['Profession']] = int(row['Rank'])\n",
    "\n",
    "        \n",
    "# Now profession_encoding dictionary contains profession and its rank mappings\n",
    "#print(profession_encoding)  # Example usage\n",
    "\n",
    "# Apply the mapping to create a new column 'Profession_Encoded'\n",
    "input_data1['Profession_Encoded'] = input_data1['Profession'].map(profession_encoding)\n",
    "#print(input_data1['Profession_Encoded'].value_counts() )\n",
    "\n",
    "\n",
    "# features\n",
    "input_data1_final = input_data1.copy()\n",
    "input_data1_final.drop(['Profession'],axis = 1,inplace = True)\n",
    "#print(input_data1_final)\n",
    "\n",
    "# target variable\n",
    "output_data1 = pd.read_csv('./Csv Files/Test_Target.csv')\n",
    "print(\"Distribution of target variable:- \\n\",output_data1[\"Risk_Flag\"].value_counts())\n",
    "# change name of column according to training data\n",
    "output_data1.rename(columns = {'id' : 'Id' , 'risk_flag':'Risk_Flag' },inplace = True)\n",
    "\n",
    "# drop id column\n",
    "test_X = input_data1_final.copy()\n",
    "test_X.drop(['Id'],axis = 1 , inplace = True)\n",
    "test_Y = output_data1.copy()\n",
    "#test_Y.drop(['Id'],axis = 1 , inplace = True)\n",
    "#print(test_X.shape)\n",
    "#print(test_Y.shape)\n",
    "\n",
    "# save to a csv , this is our test data\n",
    "test_X.to_csv('./Csv Files/test_x.csv',sep=',' , index =False , encoding = 'utf-8')\n",
    "test_Y.to_csv('./Csv Files/test_y.csv', sep=',', index=False, encoding='utf-8')\n",
    "\n",
    "# Load test data\n",
    "x_test = pd.read_csv('./Csv Files/test_x.csv')\n",
    "y_test = pd.read_csv('./Csv Files/test_y.csv')\n",
    "\n",
    "# check if values are pure\n",
    "print(\"Is input pure :- \",x_test.notnull().values.all())"
   ]
  },
  {
   "cell_type": "markdown",
   "id": "fcb962e0",
   "metadata": {},
   "source": [
    "## Correalation Matrix for relationship among features"
   ]
  },
  {
   "cell_type": "code",
   "execution_count": 10,
   "id": "5043552a",
   "metadata": {},
   "outputs": [
    {
     "name": "stdout",
     "output_type": "stream",
     "text": [
      "Correlation Matrix:\n"
     ]
    },
    {
     "data": {
      "image/png": "[encoded data removed]",
      "text/plain": [
       "<Figure size 720x576 with 2 Axes>"
      ]
     },
     "metadata": {
      "needs_background": "light"
     },
     "output_type": "display_data"
    }
   ],
   "source": [
    "df = pd.concat([X_train, y_train], axis=1)\n",
    "\n",
    "# Calculate correlation matrix\n",
    "correlation_matrix = df.corr()\n",
    "\n",
    "print(\"Correlation Matrix:\")\n",
    "#print(correlation_matrix)\n",
    "import seaborn as sns\n",
    "import matplotlib.pyplot as plt\n",
    "\n",
    "# Assuming correlation_matrix is the correlation matrix calculated earlier\n",
    "\n",
    "# Plot correlation matrix heatmap\n",
    "plt.figure(figsize=(10, 8))\n",
    "sns.heatmap(correlation_matrix, annot=True, cmap='coolwarm', fmt=\".2f\", linewidths=.5)\n",
    "plt.title(\"Correlation Matrix\")\n",
    "plt.xticks(rotation=45)\n",
    "plt.yticks(rotation=0)\n",
    "plt.show()"
   ]
  },
  {
   "cell_type": "markdown",
   "id": "82b965a9",
   "metadata": {},
   "source": [
    "# Implementing random forest"
   ]
  },
  {
   "cell_type": "markdown",
   "id": "f14dd2d4",
   "metadata": {},
   "source": [
    "## Making a node"
   ]
  },
  {
   "cell_type": "code",
   "execution_count": 11,
   "id": "706c19d2",
   "metadata": {},
   "outputs": [],
   "source": [
    "class Node():\n",
    "    def __init__(self,feature_index = None, threshold=None , left = None , right = None,info_gain = None , value=None):\n",
    "    \n",
    "        # for making decision\n",
    "        self.feature_index = feature_index\n",
    "        self.threshold = threshold\n",
    "        self.left = left\n",
    "        self.right = right\n",
    "        self.info_gain = info_gain\n",
    "        \n",
    "        # for leaf node \n",
    "        self.value = value\n",
    "        "
   ]
  },
  {
   "cell_type": "markdown",
   "id": "7ad18a51",
   "metadata": {},
   "source": [
    "## Tree class"
   ]
  },
  {
   "cell_type": "code",
   "execution_count": 12,
   "id": "4c073aa1",
   "metadata": {},
   "outputs": [],
   "source": [
    "import numpy as np\n",
    "\n",
    "class DecisionTreeClassifier():\n",
    "    def __init__(self, min_samples_split=3, max_depth=3):\n",
    "        ''' constructor '''\n",
    "        \n",
    "        # initialize the root of the tree \n",
    "        self.root = None\n",
    "        \n",
    "        # stopping conditions\n",
    "        self.min_samples_split = min_samples_split\n",
    "        self.max_depth = max_depth\n",
    "        \n",
    "    def build_tree(self, dataset, features_to_use, curr_depth=0):\n",
    "        ''' recursive function to build the tree ''' \n",
    "        \n",
    "        X, Y = dataset[:,:-1], dataset[:,-1]\n",
    "        num_samples, num_features = np.shape(X)\n",
    "        \n",
    "        # split until stopping conditions are met\n",
    "        if num_samples>=self.min_samples_split and curr_depth<=self.max_depth:\n",
    "            # find the best split\n",
    "            best_split = self.get_best_split(dataset, num_samples, features_to_use)\n",
    "            \n",
    "            # check if information gain is positive\n",
    "            if best_split[\"info_gain\"]>0:\n",
    "                # recur left\n",
    "                left_subtree = self.build_tree(best_split[\"dataset_left\"], features_to_use, curr_depth+1)\n",
    "                # recur right\n",
    "                right_subtree = self.build_tree(best_split[\"dataset_right\"], features_to_use, curr_depth+1)\n",
    "                # return decision node\n",
    "                return Node(best_split[\"feature_index\"], best_split[\"threshold\"], \n",
    "                            left_subtree, right_subtree, best_split[\"info_gain\"])\n",
    "        \n",
    "        # compute leaf node\n",
    "        leaf_value = self.calculate_leaf_value(Y)\n",
    "        # return leaf node\n",
    "        return Node(value=leaf_value)\n",
    "    \n",
    "    def get_best_split(self, dataset, num_samples, features_to_use):\n",
    "        ''' function to find the best split '''\n",
    "            \n",
    "        best_split ={}\n",
    "        max_info_gain = -float(\"inf\")\n",
    "        best_split[\"info_gain\"] = max_info_gain\n",
    "        \n",
    "        for feature_index in features_to_use:\n",
    "            \n",
    "            # Extract feature values from the dataset\n",
    "            feature_values = dataset[:, feature_index]\n",
    "            # Calculate the number of unique feature values\n",
    "            num_unique_values = len(np.unique(feature_values))\n",
    "            # If number of unique feature values is more than 100, choose 100 randomly, else choose all\n",
    "            if num_unique_values > 100:\n",
    "                # Randomly select 100 unique feature values from the dataset\n",
    "                possible_thresholds = np.unique(np.random.choice(feature_values, size=100, replace=False))\n",
    "            else:\n",
    "                # Use all unique feature values\n",
    "                possible_thresholds = np.unique(feature_values)\n",
    "            \n",
    "            # loop over all the feature values present in the data\n",
    "            for threshold in possible_thresholds:\n",
    "                # get current split\n",
    "                dataset_left, dataset_right = self.split(dataset, feature_index, threshold)\n",
    "                # check if childs are not null\n",
    "                if len(dataset_left)>0 and len(dataset_right)>0:\n",
    "                    y, left_y, right_y = dataset[:, -1], dataset_left[:, -1], dataset_right[:, -1]\n",
    "                    # compute information gain\n",
    "                    curr_info_gain = self.information_gain(y, left_y, right_y, \"gini\")\n",
    "                    # update the best split if needed\n",
    "                    if curr_info_gain>max_info_gain:\n",
    "                        best_split[\"feature_index\"] = feature_index\n",
    "                        best_split[\"threshold\"] = threshold\n",
    "                        best_split[\"dataset_left\"] = dataset_left\n",
    "                        best_split[\"dataset_right\"] = dataset_right\n",
    "                        best_split[\"info_gain\"] = curr_info_gain\n",
    "                        max_info_gain = curr_info_gain\n",
    "                        \n",
    "        # return best split\n",
    "        return best_split\n",
    "    \n",
    "    def split(self, dataset, feature_index, threshold):\n",
    "        ''' function to split the data '''\n",
    "        \n",
    "        dataset_left = np.array([row for row in dataset if row[feature_index]<=threshold])\n",
    "        dataset_right = np.array([row for row in dataset if row[feature_index]>threshold])\n",
    "        return dataset_left, dataset_right\n",
    "    \n",
    "    def information_gain(self, parent, l_child, r_child, mode=\"entropy\"):\n",
    "        ''' function to compute information gain '''\n",
    "        \n",
    "        weight_l = len(l_child) / len(parent)\n",
    "        weight_r = len(r_child) / len(parent)\n",
    "        if mode==\"gini\":\n",
    "            gain = self.gini_index(parent) - (weight_l*self.gini_index(l_child) + weight_r*self.gini_index(r_child))\n",
    "        else:\n",
    "            gain = self.entropy(parent) - (weight_l*self.entropy(l_child) + weight_r*self.entropy(r_child))\n",
    "        return gain\n",
    "    \n",
    "    def entropy(self, y):\n",
    "        ''' function to compute entropy '''\n",
    "        \n",
    "        class_labels = np.unique(y)\n",
    "        entropy = 0\n",
    "        for cls in class_labels:\n",
    "            p_cls = len(y[y == cls]) / len(y)\n",
    "            entropy += -p_cls * np.log2(p_cls)\n",
    "        return entropy\n",
    "    \n",
    "    def gini_index(self, y):\n",
    "        ''' function to compute gini index '''\n",
    "        \n",
    "        class_labels = np.unique(y)\n",
    "        gini = 0\n",
    "        for cls in class_labels:\n",
    "            p_cls = len(y[y == cls]) / len(y)\n",
    "            gini += p_cls**2\n",
    "        return 1 - gini\n",
    "        \n",
    "    def calculate_leaf_value(self, Y):\n",
    "        ''' function to compute leaf node '''\n",
    "        \n",
    "        Y = list(Y)\n",
    "        return max(Y, key=Y.count)\n",
    "    \n",
    "    def print_tree(self, tree=None, indent=\" \"):\n",
    "        ''' function to print the tree '''\n",
    "        \n",
    "        if not tree:\n",
    "            tree = self.root\n",
    "\n",
    "        if tree.value is not None:\n",
    "            print(tree.value)\n",
    "\n",
    "        else:\n",
    "            print(\"X_\"+str(tree.feature_index), \"<=\", tree.threshold, \"?\", tree.info_gain)\n",
    "            print(\"%sleft:\" % (indent), end=\"\")\n",
    "            self.print_tree(tree.left, indent + indent)\n",
    "            print(\"%sright:\" % (indent), end=\"\")\n",
    "            self.print_tree(tree.right, indent + indent)\n",
    "    \n",
    "    def fit(self, X, Y, features_to_use):\n",
    "        ''' function to train the tree '''\n",
    "        \n",
    "        dataset = np.concatenate((X, Y), axis=1)\n",
    "        self.root = self.build_tree(dataset, features_to_use)\n",
    "    \n",
    "    def predict(self, X):\n",
    "        ''' function to predict new dataset '''\n",
    "        \n",
    "        preditions = [self.make_prediction(x, self.root) for x in X]\n",
    "        return preditions\n",
    "    \n",
    "    def make_prediction(self, x, tree):\n",
    "        ''' function to predict a single data point '''\n",
    "        \n",
    "        if tree.value!=None:\n",
    "            return tree.value\n",
    "        feature_val = x[tree.feature_index]\n",
    "        if feature_val<=tree.threshold:\n",
    "            return self.make_prediction(x, tree.left)\n",
    "        else:\n",
    "            return self.make_prediction(x, tree.right)\n",
    "        \n",
    "        \n",
    "# extra functions        \n",
    "def bootstrap_feature(num_of_feature,num):\n",
    "    # Generate 3 non-repetitive random numbers from 0 to 5\n",
    "    random_numbers = random.sample(range(num_of_feature),  int(num) )\n",
    "    return random_numbers\n",
    "\n",
    "def bootstrap_sample(x, y, num_samples):\n",
    "    # Ensure x and y have the same number of samples\n",
    "    assert len(x) == len(y), \"x and y must have the same number of samples\"\n",
    "\n",
    "    # Get the number of samples in x\n",
    "    num_samples_total = len(x)\n",
    "\n",
    "    # Generate random indices for the bootstrap sample\n",
    "    indices = np.random.choice(num_samples_total, size=num_samples, replace=True)\n",
    "\n",
    "    # Use the indices to select samples from x and y\n",
    "    x_new = x.iloc[indices]  # Use iloc for DataFrame indexing\n",
    "    y_new = y.iloc[indices]  # Use iloc for DataFrame indexing\n",
    "\n",
    "    return x_new, y_new"
   ]
  },
  {
   "cell_type": "markdown",
   "id": "bc353c67",
   "metadata": {},
   "source": [
    "## Taking input"
   ]
  },
  {
   "cell_type": "code",
   "execution_count": 14,
   "id": "ec8fe6cf",
   "metadata": {},
   "outputs": [],
   "source": [
    "X_train = pd.read_csv(\"./Csv Files/Train_X.csv\")\n",
    "Y_train = pd.read_csv(\"./Csv Files/Train_Y.csv\")\n",
    "X_test = pd.read_csv(\"./Csv Files/test_x.csv\")\n",
    "Y_test = pd.read_csv(\"./Csv Files/test_y.csv\")\n",
    "X_test = X_test.to_numpy()\n",
    "Y_test=Y_test.to_numpy().flatten() "
   ]
  },
  {
   "cell_type": "code",
   "execution_count": 15,
   "id": "bc3647dc",
   "metadata": {},
   "outputs": [
    {
     "name": "stdout",
     "output_type": "stream",
     "text": [
      "Value counts in Y_test: {0: 1753, 1: 1738}\n",
      "Value counts in Y_train: {0: 15699, 1: 15714}\n"
     ]
    }
   ],
   "source": [
    "\n",
    "\n",
    "# Assuming Y_test is your numpy array\n",
    "unique_values, value_counts = np.unique(Y_test, return_counts=True)\n",
    "value_counts_dict = dict(zip(unique_values, value_counts))\n",
    "print(\"Value counts in Y_test:\", value_counts_dict)\n",
    "\n",
    "# Assuming Y_test is your numpy array\n",
    "unique_values, value_counts = np.unique(Y_train, return_counts=True)\n",
    "value_counts_dict = dict(zip(unique_values, value_counts))\n",
    "print(\"Value counts in Y_train:\", value_counts_dict)"
   ]
  },
  {
   "cell_type": "markdown",
   "id": "f71336cd",
   "metadata": {},
   "source": [
    "# Running Model  and ensembling trees"
   ]
  },
  {
   "cell_type": "code",
   "execution_count": 18,
   "id": "cc5b3c08",
   "metadata": {
    "scrolled": true
   },
   "outputs": [
    {
     "name": "stdout",
     "output_type": "stream",
     "text": [
      "enter number of tress :- 5\n",
      "tree  0  :- \n",
      "\n",
      "tree  1  :- \n",
      "\n",
      "tree  2  :- \n",
      "\n",
      "tree  3  :- \n",
      "\n",
      "tree  4  :- \n",
      "\n"
     ]
    }
   ],
   "source": [
    " \n",
    "\n",
    "tree = int(input(\"enter number of tress :- \"))\n",
    "Y_pred = np.zeros(X_test.shape[0]) \n",
    "\n",
    "for i in range(tree):\n",
    "\n",
    "    X_train1 , Y_train1 = bootstrap_sample(X_train,Y_train,10000)\n",
    "    features_to_use = bootstrap_feature(X_train.shape[1],int(X_train.shape[1]*0.6))\n",
    "    classifier = DecisionTreeClassifier(min_samples_split=50, max_depth=3)\n",
    "    classifier.fit(X_train1,Y_train1,features_to_use)\n",
    "\n",
    "    print(\"tree \",i ,\" :- \\n\")\n",
    "    #classifier.print_tree()\n",
    "    #print(\"\\n\\n\")\n",
    "    \n",
    "    Y_pred_iteration = np.array(classifier.predict(X_test))\n",
    "    Y_pred = np.sum([Y_pred, Y_pred_iteration], axis=0) if i > 0 else Y_pred_iteration\n",
    "\n",
    "    \n",
    "# here all tree votes for 0 / 1 and final class is predicted by majority among trees\n",
    "Y_predicted = np.where(Y_pred >= float(float(tree)/2.0), 1, 0)"
   ]
  },
  {
   "cell_type": "code",
   "execution_count": 19,
   "id": "ac38e480",
   "metadata": {
    "scrolled": true
   },
   "outputs": [
    {
     "name": "stdout",
     "output_type": "stream",
     "text": [
      "Accuracy =  69.57891721569752 %\n",
      "F1 Score: 0.7130434782608697\n",
      "Confusion Matrix:\n",
      "[[1126  627]\n",
      " [ 435 1303]]\n"
     ]
    },
    {
     "data": {
      "image/png": "[encoded data removed]",
      "text/plain": [
       "<Figure size 432x288 with 2 Axes>"
      ]
     },
     "metadata": {
      "needs_background": "light"
     },
     "output_type": "display_data"
    }
   ],
   "source": [
    "\n",
    "from sklearn.metrics import accuracy_score\n",
    "print(\"Accuracy = \",accuracy_score(Y_test, Y_predicted)*100,\"%\")\n",
    "print(\"F1 Score:\", f1)\n",
    "from sklearn.metrics import confusion_matrix\n",
    "import matplotlib.pyplot as plt\n",
    "import seaborn as sns\n",
    "# Compute the confusion matrix\n",
    "cm = confusion_matrix(Y_test, Y_predicted)\n",
    "\n",
    "# Print the confusion matrix\n",
    "print(\"Confusion Matrix:\")\n",
    "print(cm)\n",
    "\n",
    "# Plot the confusion matrix using seaborn heatmap\n",
    "sns.heatmap(cm, annot=True, cmap='Blues', fmt='d')\n",
    "plt.xlabel('Predicted Labels')\n",
    "plt.ylabel('True Labels')\n",
    "plt.title('Confusion Matrix')\n",
    "plt.show()\n",
    "\n",
    "from sklearn.metrics import f1_score\n",
    "\n",
    "\n",
    "\n",
    "# Calculate the F1 score\n",
    "f1 = f1_score(Y_test, Y_predicted)\n",
    "\n",
    "\n"
   ]
  },
  {
   "cell_type": "markdown",
   "id": "aa3234c7",
   "metadata": {},
   "source": [
    "# By other ensembling techinique"
   ]
  },
  {
   "cell_type": "code",
   "execution_count": null,
   "id": "d98194d0",
   "metadata": {},
   "outputs": [],
   "source": [
    "tree = int(input(\"enter number of tress :- \"))\n",
    "Y_pred = np.zeros(X_test.shape[0]) \n",
    "\n",
    "# Initialize an array to hold the weights of each tree\n",
    "tree_weights = np.ones(tree) \n",
    "target_accuracy = 0.6  # Target accuracy\n",
    "\n",
    "for i in range(tree):\n",
    "\n",
    "    X_train1 , Y_train1 = bootstrap_sample(X_train,Y_train,10000)\n",
    "    features_to_use = bootstrap_feature(X_train.shape[1],int(X_train.shape[1]*0.6))\n",
    "    classifier = DecisionTreeClassifier(min_samples_split=50, max_depth=3)\n",
    "    classifier.fit(X_train1,Y_train1,features_to_use)\n",
    "\n",
    "    print(\"tree \",i ,\" :- \\n\")\n",
    "    #classifier.print_tree()\n",
    "    #print(\"\\n\\n\")\n",
    "    \n",
    "    #Y_pred_iteration = np.array(classifier.predict(X_test))\n",
    "    #Y_pred = np.sum([Y_pred, Y_pred_iteration], axis=0) if i > 0 else Y_pred_iteration\n",
    "    \n",
    "        # Evaluate the tree's performance on the test set\n",
    "    Y_pred_iteration = np.array(classifier.predict(X_test))\n",
    "    print(\"Y_pred_iteration\",Y_pred_iteration)\n",
    "    accuracy = np.mean(Y_pred_iteration == Y_test)  # Calculate accuracy\n",
    "    \n",
    "    # Update tree weights based on deviation from target accuracy\n",
    "    deviation = accuracy - target_accuracy\n",
    "    weight_multiplier = 1.0 / (1.0 + deviation)  # Decrease weight for larger deviation\n",
    "    #if(deviation<0): \n",
    "    #    weight_multiplier = 2.0\n",
    "    #else:\n",
    "    #    weight_multiplier = 0.5\n",
    "    tree_weights[i] *= weight_multiplier\n",
    "\n",
    "    print(\"Tree \", i, \" - Accuracy:\", accuracy)\n",
    "    \n",
    "    # Accumulate predictions with updated weights\n",
    "    if i == 0:\n",
    "        Y_pred = Y_pred_iteration * tree_weights[i]\n",
    "    else:\n",
    "        Y_pred += Y_pred_iteration * tree_weights[i]\n",
    "    print(\"Y_pred\",Y_pred)\n",
    "\n",
    "# Normalize predictions\n",
    "Y_pred /= np.sum(tree_weights)\n",
    "print(\"Y_pred\",Y_pred)"
   ]
  },
  {
   "cell_type": "code",
   "execution_count": 21,
   "id": "f1e81781",
   "metadata": {},
   "outputs": [
    {
     "name": "stdout",
     "output_type": "stream",
     "text": [
      "Accuracy =  62.67545116012604 %\n",
      "F1 Score: 0.6936280272748648\n",
      "Confusion Matrix:\n",
      "[[ 713 1040]\n",
      " [ 263 1475]]\n"
     ]
    },
    {
     "data": {
      "image/png": "[encoded data removed]",
      "text/plain": [
       "<Figure size 432x288 with 2 Axes>"
      ]
     },
     "metadata": {
      "needs_background": "light"
     },
     "output_type": "display_data"
    }
   ],
   "source": [
    "Y_predicted = np.where(Y_pred >= 0.5, 1, 0)\n",
    "from sklearn.metrics import accuracy_score\n",
    "print(\"Accuracy = \",accuracy_score(Y_test, Y_predicted)*100,\"%\")\n",
    "print(\"F1 Score:\", f1)\n",
    "from sklearn.metrics import confusion_matrix\n",
    "import matplotlib.pyplot as plt\n",
    "import seaborn as sns\n",
    "# Compute the confusion matrix\n",
    "cm = confusion_matrix(Y_test, Y_predicted)\n",
    "\n",
    "# Print the confusion matrix\n",
    "print(\"Confusion Matrix:\")\n",
    "print(cm)\n",
    "\n",
    "# Plot the confusion matrix using seaborn heatmap\n",
    "sns.heatmap(cm, annot=True, cmap='Blues', fmt='d')\n",
    "plt.xlabel('Predicted Labels')\n",
    "plt.ylabel('True Labels')\n",
    "plt.title('Confusion Matrix')\n",
    "plt.show()\n",
    "\n",
    "from sklearn.metrics import f1_score\n",
    "\n",
    "\n",
    "\n",
    "# Calculate the F1 score\n",
    "f1 = f1_score(Y_test, Y_predicted)"
   ]
  },
  {
   "cell_type": "code",
   "execution_count": null,
   "id": "a9ffd088",
   "metadata": {},
   "outputs": [],
   "source": []
  }
 ],
 "metadata": {
  "kernelspec": {
   "display_name": "Python 3 (ipykernel)",
   "language": "python",
   "name": "python3"
  },
  "language_info": {
   "codemirror_mode": {
    "name": "ipython",
    "version": 3
   },
   "file_extension": ".py",
   "mimetype": "text/x-python",
   "name": "python",
   "nbconvert_exporter": "python",
   "pygments_lexer": "ipython3",
   "version": "3.9.12"
  }
 },
 "nbformat": 4,
 "nbformat_minor": 5
}
