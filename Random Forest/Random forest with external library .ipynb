{
 "cells": [
  {
   "cell_type": "code",
   "execution_count": 16,
   "id": "5660430a",
   "metadata": {},
   "outputs": [],
   "source": [
    "import pandas as pd\n",
    "import csv\n",
    "from sklearn.model_selection import train_test_split\n",
    "\n",
    "# Load the dataset\n",
    "data = pd.read_csv('./Csv Files/SWAGAT_INPUT_income_dataset_balanced.csv')\n"
   ]
  },
  {
   "cell_type": "markdown",
   "id": "146d511b",
   "metadata": {},
   "source": [
    "## Split as train and test"
   ]
  },
  {
   "cell_type": "code",
   "execution_count": 17,
   "id": "5fd74be7",
   "metadata": {},
   "outputs": [
    {
     "name": "stdout",
     "output_type": "stream",
     "text": [
      "X_train shape: (31413, 12)\n",
      "X_test shape: (3491, 12)\n",
      "y_train shape: (31413,)\n",
      "y_test shape: (3491,)\n"
     ]
    }
   ],
   "source": [
    "# Define the target variable\n",
    "target_variable = 'Risk_Flag'\n",
    "# Separate features (X) and target variable (y)\n",
    "X = data.drop(columns=[target_variable])  # Features\n",
    "y = data[target_variable]                 # Target\n",
    "\n",
    "# Split the dataset into training (30,000 samples) and test sets\n",
    "X_train, X_test, y_train, y_test = train_test_split(X, y, test_size=0.1, random_state=42)\n",
    "\n",
    "# Concatenate X_train and y_train along columns to create the training dataset\n",
    "train_data = pd.concat([X_train, y_train], axis=1)\n",
    "\n",
    "# Display the shapes of the split datasets\n",
    "print(\"X_train shape:\", X_train.shape)\n",
    "print(\"X_test shape:\", X_test.shape)\n",
    "print(\"y_train shape:\", y_train.shape)\n",
    "print(\"y_test shape:\", y_test.shape)\n",
    "\n",
    "# Save the training dataset (features + target) and test dataset (features) to CSV files\n",
    "train_data.to_csv('./Csv Files/Train_Data.csv', index=False)\n",
    "X_test.to_csv('./Csv Files/Test_Data.csv', index=False)\n",
    "\n",
    "# Save the target variable for the test dataset to a CSV file\n",
    "y_test.to_csv('./Csv Files/Test_Target.csv', index=False, header=True)\n"
   ]
  },
  {
   "cell_type": "markdown",
   "id": "310a911e",
   "metadata": {},
   "source": [
    "## Training data"
   ]
  },
  {
   "cell_type": "code",
   "execution_count": 18,
   "id": "b9b6505e",
   "metadata": {},
   "outputs": [
    {
     "name": "stdout",
     "output_type": "stream",
     "text": [
      "is data clean :-  True\n",
      "0    28318\n",
      "1     3095\n",
      "Name: Married/Single, dtype: int64\n",
      "0    28933\n",
      "2     1599\n",
      "1      881\n",
      "Name: House_Ownership, dtype: int64\n",
      "0    21933\n",
      "1     9480\n",
      "Name: Car_Ownership, dtype: int64\n",
      "number of professions :-  51\n"
     ]
    }
   ],
   "source": [
    "data = pd.read_csv('./Csv Files/Train_Data.csv');\n",
    "print(\"is data clean :- \" , data.notnull().values.all())  # data is clean\n",
    "#print(\"risk :- \\n\",data[\"Risk_Flag\"].value_counts())\n",
    "input_data1 = data.copy()\n",
    "input_data1.drop(['CITY','STATE','Risk_Flag'],axis = 1 ,inplace = True)\n",
    "\n",
    "# Married \n",
    "\n",
    "input_data1['Married/Single'] = input_data1['Married/Single'].apply(lambda x : 1 if  x == 'married' else 0 )\n",
    "print(input_data1['Married/Single'].value_counts())\n",
    "\n",
    "# House ownership\n",
    "\n",
    "#print(input_data1['House_Ownership'].value_counts())\n",
    "ownership_mapping = {'rented': 0, 'norent_noown': 1, 'owned': 2}\n",
    "input_data1['House_Ownership'] = input_data1['House_Ownership'].map(ownership_mapping)\n",
    "print(input_data1['House_Ownership'].value_counts())\n",
    "\n",
    "# car ownership \n",
    "input_data1['Car_Ownership'].value_counts()\n",
    "input_data1['Car_Ownership'] = input_data1['Car_Ownership'].apply(lambda x : 1 if  x == 'yes' else 0 )\n",
    "print(input_data1['Car_Ownership'].value_counts())\n",
    "\n",
    "\n",
    "# Profession \n",
    "\n",
    "input_data1['Profession'] = input_data1['Profession'].str.replace('_', ' ')\n",
    "\n",
    "print(\"number of professions :- \",input_data1['Profession'].nunique())\n",
    "\n",
    "average_income_by_profession = input_data1.groupby('Profession')['Income'].mean()\n",
    "# Format the numbers without scientific notation and with commas as thousand separators\n",
    "average_income_by_profession = average_income_by_profession.apply(lambda x: \"{:,.2f}\".format(x))\n",
    "\n",
    "#print(\"average salary of each profession :-\\n \",average_income_by_profession)\n",
    "\n",
    "# Create a mapping for encoding based on average income\n",
    "profession_encoding = dict(zip(average_income_by_profession.sort_values().index, range(input_data1['Profession'].nunique())))\n",
    "#print(profession_encoding)\n",
    "\n",
    "# Save the DataFrame to a CSV file this will be used to encoding test data based on training data\n",
    "df = pd.DataFrame(list(profession_encoding.items()), columns=['Profession', 'Rank'])\n",
    "df.to_csv('./Csv Files/profession_rank.csv', index=False)\n",
    "\n",
    "\n",
    "# Apply the mapping to create a new column 'Profession_Encoded'\n",
    "input_data1['Profession_Encoded'] = input_data1['Profession'].map(profession_encoding)\n",
    "#print(input_data1['Profession_Encoded'].value_counts() )\n",
    "\n",
    "\n",
    "input_data1_final = input_data1.copy()\n",
    "input_data1_final.drop(['Profession'],axis = 1,inplace = True)\n",
    "#print(input_data1_final)\n",
    "output_data1 = data.filter(['Id','Risk_Flag'])\n",
    "#print(output_data1)\n",
    "\n",
    "\n",
    "# Remove id from both\n",
    "train_X = input_data1_final.copy()\n",
    "train_X.drop(['Id'],axis = 1 , inplace = True )\n",
    "train_Y = output_data1.copy()\n",
    "train_Y.drop(['Id'],axis = 1 , inplace = True)\n",
    "#print(train_X.head(10))\n",
    "#print(train_Y.head(10))\n",
    "\n",
    "# Load test data\n",
    "train_X.to_csv('./Csv Files/Train_X.csv',index=False)\n",
    "train_Y.to_csv('./Csv Files/Train_Y.csv', index=False)\n",
    "\n",
    "# make array of target variable\n",
    "Y_train = train_Y['Risk_Flag'].values"
   ]
  },
  {
   "cell_type": "markdown",
   "id": "20917e8b",
   "metadata": {},
   "source": [
    "## Testing data"
   ]
  },
  {
   "cell_type": "code",
   "execution_count": 19,
   "id": "bc48455b",
   "metadata": {},
   "outputs": [
    {
     "name": "stdout",
     "output_type": "stream",
     "text": [
      "is data clean :-  True\n",
      "0    3147\n",
      "1     344\n",
      "Name: Married/Single, dtype: int64\n",
      "0    3235\n",
      "2     150\n",
      "1     106\n",
      "Name: House_Ownership, dtype: int64\n",
      "0    2439\n",
      "1    1052\n",
      "Name: Car_Ownership, dtype: int64\n",
      "number of professions :-  51\n",
      "Distribution of target variable:- \n",
      " 0    1753\n",
      "1    1738\n",
      "Name: Risk_Flag, dtype: int64\n",
      "Is input pure :-  True\n"
     ]
    }
   ],
   "source": [
    "\n",
    "data = pd.read_csv('./Csv Files/Test_Data.csv');\n",
    "\n",
    "print(\"is data clean :- \" , data.notnull().values.all())  # data is clean\n",
    "\n",
    "input_data1 = data.copy()\n",
    "input_data1.drop(['CITY','STATE'],axis = 1 ,inplace = True)\n",
    "\n",
    "\n",
    "input_data1['Married/Single'] = input_data1['Married/Single'].apply(lambda x : 1 if  x == 'married' else 0 )\n",
    "print(input_data1['Married/Single'].value_counts())\n",
    "\n",
    "#print(input_data1['House_Ownership'].value_counts())\n",
    "ownership_mapping = {'rented': 0, 'norent_noown': 1, 'owned': 2}\n",
    "input_data1['House_Ownership'] = input_data1['House_Ownership'].map(ownership_mapping)\n",
    "print(input_data1['House_Ownership'].value_counts())\n",
    "\n",
    "#print(input_data1['Car_Ownership'].value_counts())\n",
    "input_data1['Car_Ownership'] = input_data1['Car_Ownership'].apply(lambda x : 1 if  x == 'yes' else 0 )\n",
    "print(input_data1['Car_Ownership'].value_counts())\n",
    "\n",
    "#print(input_data1['Profession'].value_counts())\n",
    "print(\"number of professions :- \",input_data1['Profession'].nunique())\n",
    "profession_encoding = {}\n",
    "\n",
    "# Read the CSV file and populate the dictionary\n",
    "with open('./Csv Files/profession_rank.csv', 'r', newline='') as file:\n",
    "    reader = csv.DictReader(file)\n",
    "    for row in reader:\n",
    "        profession_encoding[row['Profession']] = int(row['Rank'])\n",
    "\n",
    "        \n",
    "# Now profession_encoding dictionary contains profession and its rank mappings\n",
    "#print(profession_encoding)  # Example usage\n",
    "\n",
    "# Apply the mapping to create a new column 'Profession_Encoded'\n",
    "input_data1['Profession_Encoded'] = input_data1['Profession'].map(profession_encoding)\n",
    "#print(input_data1['Profession_Encoded'].value_counts() )\n",
    "\n",
    "\n",
    "# features\n",
    "input_data1_final = input_data1.copy()\n",
    "input_data1_final.drop(['Profession'],axis = 1,inplace = True)\n",
    "#print(input_data1_final)\n",
    "\n",
    "# target variable\n",
    "output_data1 = pd.read_csv('./Csv Files/Test_Target.csv')\n",
    "print(\"Distribution of target variable:- \\n\",output_data1[\"Risk_Flag\"].value_counts())\n",
    "# change name of column according to training data\n",
    "output_data1.rename(columns = {'id' : 'Id' , 'risk_flag':'Risk_Flag' },inplace = True)\n",
    "\n",
    "# drop id column\n",
    "test_X = input_data1_final.copy()\n",
    "test_X.drop(['Id'],axis = 1 , inplace = True)\n",
    "test_Y = output_data1.copy()\n",
    "#test_Y.drop(['Id'],axis = 1 , inplace = True)\n",
    "#print(test_X.shape)\n",
    "#print(test_Y.shape)\n",
    "\n",
    "# save to a csv , this is our test data\n",
    "test_X.to_csv('./Csv Files/test_x.csv',sep=',' , index =False , encoding = 'utf-8')\n",
    "test_Y.to_csv('./Csv Files/test_y.csv', sep=',', index=False, encoding='utf-8')\n",
    "\n",
    "# Load test data\n",
    "x_test = pd.read_csv('./Csv Files/test_x.csv')\n",
    "y_test = pd.read_csv('./Csv Files/test_y.csv')\n",
    "\n",
    "# check if values are pure\n",
    "print(\"Is input pure :- \",x_test.notnull().values.all())"
   ]
  },
  {
   "cell_type": "markdown",
   "id": "dcebb236",
   "metadata": {},
   "source": [
    "## Running model"
   ]
  },
  {
   "cell_type": "code",
   "execution_count": 20,
   "id": "564b797f",
   "metadata": {},
   "outputs": [
    {
     "name": "stdout",
     "output_type": "stream",
     "text": [
      "Accuracy :-  69.7221426525351 %\n",
      "F1-score: 0.7119\n",
      "Confusion Matrix:\n",
      "[[1128  625]\n",
      " [ 432 1306]]\n"
     ]
    },
    {
     "data": {
      "image/png": "[encoded data removed]",
      "text/plain": [
       "<Figure size 576x432 with 1 Axes>"
      ]
     },
     "metadata": {
      "needs_background": "light"
     },
     "output_type": "display_data"
    }
   ],
   "source": [
    "from sklearn.ensemble import RandomForestClassifier\n",
    "from sklearn.metrics import f1_score\n",
    "model = RandomForestClassifier(n_estimators = 100 ,max_samples = 1.0, criterion = 'gini', max_depth = 3,min_samples_split = 10 , min_samples_leaf = 1 )\n",
    "\n",
    "model.fit(train_X,Y_train)\n",
    "\n",
    "x_test.head(10)\n",
    "test_y = y_test['Risk_Flag'].values\n",
    "\n",
    "print(\"Accuracy :- \",model.score(x_test,test_y)*100 , \"%\")\n",
    "# Calculate and print F1-score\n",
    "predictions = model.predict(x_test)\n",
    "f1score = f1_score(test_y, predictions)\n",
    "print(f\"F1-score: {f1score:.4f}\")\n",
    "import pandas as pd\n",
    "from sklearn.ensemble import RandomForestClassifier\n",
    "from sklearn.metrics import confusion_matrix, f1_score\n",
    "from sklearn.model_selection import train_test_split\n",
    "import matplotlib.pyplot as plt\n",
    "import seaborn as sns\n",
    "\n",
    "# Calculate and print confusion matrix\n",
    "conf_matrix = confusion_matrix(test_y, predictions)\n",
    "print(\"Confusion Matrix:\")\n",
    "print(conf_matrix)\n",
    "\n",
    "# Visualize the confusion matrix using seaborn heatmap\n",
    "plt.figure(figsize=(8, 6))\n",
    "sns.heatmap(conf_matrix, annot=True, fmt='d', cmap='Blues', cbar=False, \n",
    "            xticklabels=['No Risk', 'Risk'], yticklabels=['No Risk', 'Risk'])\n",
    "plt.title('Confusion Matrix')\n",
    "plt.xlabel('Predicted')\n",
    "plt.ylabel('Actual')\n",
    "plt.show()"
   ]
  }
 ],
 "metadata": {
  "kernelspec": {
   "display_name": "Python 3 (ipykernel)",
   "language": "python",
   "name": "python3"
  },
  "language_info": {
   "codemirror_mode": {
    "name": "ipython",
    "version": 3
   },
   "file_extension": ".py",
   "mimetype": "text/x-python",
   "name": "python",
   "nbconvert_exporter": "python",
   "pygments_lexer": "ipython3",
   "version": "3.9.12"
  }
 },
 "nbformat": 4,
 "nbformat_minor": 5
}
