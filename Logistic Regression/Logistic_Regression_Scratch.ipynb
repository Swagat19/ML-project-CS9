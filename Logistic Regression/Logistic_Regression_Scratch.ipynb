{
 "cells": [
  {
   "cell_type": "markdown",
   "id": "5873ca50",
   "metadata": {},
   "source": [
    "# LIBRARIES TO BE USED"
   ]
  },
  {
   "cell_type": "code",
   "execution_count": 1,
   "id": "ee36ba7e",
   "metadata": {},
   "outputs": [],
   "source": [
    "import numpy as np\n",
    "import pandas as pd\n",
    "import matplotlib.pyplot as plt\n",
    "import seaborn as sns\n",
    "import itertools\n",
    "import math\n",
    "\n",
    "# Load the necessary libraries\n",
    "from sklearn.model_selection import train_test_split\n",
    "from sklearn.preprocessing import MinMaxScaler"
   ]
  },
  {
   "cell_type": "markdown",
   "id": "1fc1e17a",
   "metadata": {},
   "source": [
    "# DATA PROCESSING"
   ]
  },
  {
   "cell_type": "code",
   "execution_count": 2,
   "id": "2e411b96",
   "metadata": {},
   "outputs": [],
   "source": [
    "# Load the data\n",
    "full_data = pd.read_csv('C:/Users/Asus/Downloads/SWAGAT_INPUT_income_dataset_balanced.csv')"
   ]
  },
  {
   "cell_type": "code",
   "execution_count": 3,
   "id": "a0a1c974",
   "metadata": {},
   "outputs": [
    {
     "data": {
      "text/plain": [
       "Index(['Id', 'Income', 'Age', 'Experience', 'Married/Single',\n",
       "       'House_Ownership', 'Car_Ownership', 'Profession', 'CITY', 'STATE',\n",
       "       'CURRENT_JOB_YRS', 'CURRENT_HOUSE_YRS', 'Risk_Flag'],\n",
       "      dtype='object')"
      ]
     },
     "execution_count": 3,
     "metadata": {},
     "output_type": "execute_result"
    }
   ],
   "source": [
    "full_data.columns"
   ]
  },
  {
   "cell_type": "code",
   "execution_count": 4,
   "id": "3c565c07",
   "metadata": {},
   "outputs": [],
   "source": [
    "# Drop unnecessary columns\n",
    "full_data.drop('Id', axis=1, inplace=True)"
   ]
  },
  {
   "cell_type": "code",
   "execution_count": 5,
   "id": "704405c0",
   "metadata": {},
   "outputs": [
    {
     "data": {
      "text/plain": [
       "Index(['Income', 'Age', 'Experience', 'Married/Single', 'House_Ownership',\n",
       "       'Car_Ownership', 'Profession', 'CITY', 'STATE', 'CURRENT_JOB_YRS',\n",
       "       'CURRENT_HOUSE_YRS', 'Risk_Flag'],\n",
       "      dtype='object')"
      ]
     },
     "execution_count": 5,
     "metadata": {},
     "output_type": "execute_result"
    }
   ],
   "source": [
    "full_data.columns"
   ]
  },
  {
   "cell_type": "markdown",
   "id": "66694ec3",
   "metadata": {},
   "source": [
    "# ONE HOT ENCODING"
   ]
  },
  {
   "cell_type": "code",
   "execution_count": 6,
   "id": "cb9cba91",
   "metadata": {},
   "outputs": [],
   "source": [
    "# Define columns to one-hot encode\n",
    "cols_to_encode = ['Married/Single', 'House_Ownership', 'Car_Ownership', 'STATE', 'CITY','Profession']\n"
   ]
  },
  {
   "cell_type": "code",
   "execution_count": 7,
   "id": "1c817857",
   "metadata": {},
   "outputs": [],
   "source": [
    "# Perform one-hot encoding\n",
    "def one_hot_encode(data):\n",
    "    unique_categories = list(set(data))\n",
    "    encoded_data = []\n",
    "    for value in data:\n",
    "        encoding = [0] * len(unique_categories)\n",
    "        category_index = unique_categories.index(value)\n",
    "        encoding[category_index] = 1\n",
    "        encoded_data.append(encoding)\n",
    "    return encoded_data, unique_categories"
   ]
  },
  {
   "cell_type": "code",
   "execution_count": 8,
   "id": "d61069a5",
   "metadata": {},
   "outputs": [],
   "source": [
    "extra = pd.DataFrame()\n",
    "for col in cols_to_encode:\n",
    "    full_data[col] = full_data[col].str.replace('_', ' ')\n",
    "    data = full_data[col]\n",
    "    encoded_data, unique_categories = one_hot_encode(data)\n",
    "    df = pd.DataFrame(encoded_data, columns=unique_categories)\n",
    "    df = df.astype(int)\n",
    "    extra = pd.concat([extra, df], axis=1)"
   ]
  },
  {
   "cell_type": "code",
   "execution_count": 9,
   "id": "28060ffa",
   "metadata": {},
   "outputs": [],
   "source": [
    "#Drop the columns that were one-hot encoded\n",
    "full_data.drop(cols_to_encode, axis=1, inplace=True)"
   ]
  },
  {
   "cell_type": "markdown",
   "id": "6e50f5ad",
   "metadata": {},
   "source": [
    "# DATA NORMALIZING"
   ]
  },
  {
   "cell_type": "code",
   "execution_count": 20,
   "id": "8cb2ff92",
   "metadata": {},
   "outputs": [],
   "source": [
    "def normalize_feature(feature):\n",
    "    min_val = np.min(feature)\n",
    "    max_val = np.max(feature)\n",
    "    range_val = max_val - min_val\n",
    "    return (feature - min_val) / range_val\n",
    "\n",
    "# Perform feature scaling\n",
    "scaled_data = full_data.drop('Risk_Flag', axis=1).apply(normalize_feature, axis=0)\n",
    "\n",
    "# Assign scaled data back to full_data\n",
    "for col in scaled_data.columns:\n",
    "    full_data[col] = scaled_data[col]"
   ]
  },
  {
   "cell_type": "markdown",
   "id": "81d9f88f",
   "metadata": {},
   "source": [
    "# RESTOREING THE MATRIX"
   ]
  },
  {
   "cell_type": "code",
   "execution_count": 21,
   "id": "89cde35e",
   "metadata": {},
   "outputs": [
    {
     "data": {
      "text/plain": [
       "Index(['single', 'married', 'owned', 'rented', 'norent noown', 'yes', 'no',\n",
       "       'Uttarakhand', 'Delhi', 'Uttar Pradesh',\n",
       "       ...\n",
       "       'Industrial Engineer', 'Graphic Designer', 'Geologist', 'Aviator',\n",
       "       'Librarian', 'Air traffic controller', 'Technical writer', 'Engineer',\n",
       "       'Physician', 'Petroleum Engineer'],\n",
       "      dtype='object', length=404)"
      ]
     },
     "execution_count": 21,
     "metadata": {},
     "output_type": "execute_result"
    }
   ],
   "source": [
    "extra.columns"
   ]
  },
  {
   "cell_type": "code",
   "execution_count": 22,
   "id": "98653568",
   "metadata": {},
   "outputs": [],
   "source": [
    "# Reset index to make it unique\n",
    "full_data.reset_index(drop=True, inplace=True)\n",
    "extra.reset_index(drop=True, inplace=True)\n",
    "\n",
    "# Concatenate encoded columns\n",
    "full_data = pd.concat([full_data, extra], axis=1)"
   ]
  },
  {
   "cell_type": "code",
   "execution_count": 23,
   "id": "beea4d86",
   "metadata": {},
   "outputs": [
    {
     "data": {
      "text/plain": [
       "<bound method NDFrame.head of          Income       Age  Experience  CURRENT_JOB_YRS  CURRENT_HOUSE_YRS  \\\n",
       "0      0.012743  0.534483        0.50         0.500000               0.00   \n",
       "1      0.003648  0.206897        0.65         0.714286               0.25   \n",
       "2      0.061536  0.448276        0.55         0.428571               0.25   \n",
       "3      0.022383  0.741379        0.05         0.071429               0.00   \n",
       "4      0.097070  0.689655        0.70         0.500000               0.25   \n",
       "...         ...       ...         ...              ...                ...   \n",
       "34899  0.976933  0.775862        0.05         0.071429               0.75   \n",
       "34900  0.956995  0.517241        0.65         0.857143               0.75   \n",
       "34901  0.915559  0.241379        0.60         0.857143               0.50   \n",
       "34902  0.973952  0.241379        0.85         0.928571               0.50   \n",
       "34903  0.912239  0.637931        0.60         0.642857               1.00   \n",
       "\n",
       "       Risk_Flag  single  married  owned  rented  ...  Industrial Engineer  \\\n",
       "0              1       1        0      0       1  ...                    0   \n",
       "1              1       1        0      0       1  ...                    0   \n",
       "2              1       1        0      0       1  ...                    0   \n",
       "3              1       1        0      0       1  ...                    0   \n",
       "4              1       1        0      0       1  ...                    0   \n",
       "...          ...     ...      ...    ...     ...  ...                  ...   \n",
       "34899          0       1        0      0       1  ...                    0   \n",
       "34900          1       1        0      0       1  ...                    0   \n",
       "34901          1       1        0      0       1  ...                    0   \n",
       "34902          1       1        0      0       1  ...                    0   \n",
       "34903          0       1        0      0       1  ...                    0   \n",
       "\n",
       "       Graphic Designer  Geologist  Aviator  Librarian  \\\n",
       "0                     0          0        0          0   \n",
       "1                     0          0        0          0   \n",
       "2                     0          0        0          0   \n",
       "3                     0          0        0          0   \n",
       "4                     0          0        0          0   \n",
       "...                 ...        ...      ...        ...   \n",
       "34899                 0          0        0          0   \n",
       "34900                 0          0        0          0   \n",
       "34901                 0          0        0          0   \n",
       "34902                 0          0        0          0   \n",
       "34903                 0          0        0          0   \n",
       "\n",
       "       Air traffic controller  Technical writer  Engineer  Physician  \\\n",
       "0                           0                 1         0          0   \n",
       "1                           0                 0         0          0   \n",
       "2                           0                 0         0          0   \n",
       "3                           0                 0         0          0   \n",
       "4                           0                 0         0          0   \n",
       "...                       ...               ...       ...        ...   \n",
       "34899                       0                 0         0          0   \n",
       "34900                       0                 0         1          0   \n",
       "34901                       0                 0         0          0   \n",
       "34902                       0                 0         0          0   \n",
       "34903                       0                 0         0          0   \n",
       "\n",
       "       Petroleum Engineer  \n",
       "0                       0  \n",
       "1                       0  \n",
       "2                       0  \n",
       "3                       0  \n",
       "4                       0  \n",
       "...                   ...  \n",
       "34899                   0  \n",
       "34900                   0  \n",
       "34901                   0  \n",
       "34902                   0  \n",
       "34903                   0  \n",
       "\n",
       "[34904 rows x 410 columns]>"
      ]
     },
     "execution_count": 23,
     "metadata": {},
     "output_type": "execute_result"
    }
   ],
   "source": [
    "full_data.head"
   ]
  },
  {
   "cell_type": "code",
   "execution_count": 24,
   "id": "45a22e40",
   "metadata": {},
   "outputs": [
    {
     "data": {
      "text/plain": [
       "17452"
      ]
     },
     "execution_count": 24,
     "metadata": {},
     "output_type": "execute_result"
    }
   ],
   "source": [
    "element_count = np.count_nonzero(full_data['Risk_Flag'] == 1)\n",
    "element_count"
   ]
  },
  {
   "cell_type": "markdown",
   "id": "aeaba67a",
   "metadata": {},
   "source": [
    "DATA IS ALREADY BALANCED "
   ]
  },
  {
   "cell_type": "code",
   "execution_count": 25,
   "id": "00a07cc8",
   "metadata": {},
   "outputs": [],
   "source": [
    "# Sample balanced dataset\n",
    "full_data_balanced = full_data.copy()"
   ]
  },
  {
   "cell_type": "markdown",
   "id": "5fac67d7",
   "metadata": {},
   "source": [
    "# Split as train and test"
   ]
  },
  {
   "cell_type": "code",
   "execution_count": 26,
   "id": "19bc0e37",
   "metadata": {},
   "outputs": [],
   "source": [
    "# Split features and target\n",
    "X, y = full_data_balanced.drop('Risk_Flag', axis=1), full_data_balanced['Risk_Flag']\n",
    "\n",
    "# Split data into train and test sets\n",
    "X_train, X_test, y_train, y_test = train_test_split(X, y, test_size=0.20, random_state=1)"
   ]
  },
  {
   "cell_type": "code",
   "execution_count": 27,
   "id": "add4c550",
   "metadata": {
    "scrolled": true
   },
   "outputs": [
    {
     "data": {
      "text/plain": [
       "(27923, 409)"
      ]
     },
     "execution_count": 27,
     "metadata": {},
     "output_type": "execute_result"
    }
   ],
   "source": [
    "X_train.shape"
   ]
  },
  {
   "cell_type": "markdown",
   "id": "f505bfd8",
   "metadata": {},
   "source": [
    "# LOGISTIC REGRESION WITH L2 REGULARIZATION"
   ]
  },
  {
   "cell_type": "code",
   "execution_count": 28,
   "id": "458097dd",
   "metadata": {},
   "outputs": [],
   "source": [
    "# Logistic function\n",
    "def logistic(x):\n",
    "    return 1 / (1 + np.exp(-x))\n",
    "\n",
    "# Loss function\n",
    "def log_loss(y, y_pred):\n",
    "    return - (y * np.log(y_pred)) - ((1 - y) * np.log(1 - y_pred))\n",
    "\n",
    "# Cost function with L2 regularization\n",
    "def cost_func_vec_regularized(y, y_pred, w, lambda_reg):\n",
    "    loss_vec = np.array([log_loss(y[i], y_pred[i]) for i in range(len(y))])\n",
    "    regularization_term = (lambda_reg / (2 * len(y))) * np.sum(w**2)\n",
    "    cost = np.dot(loss_vec, np.ones(len(y))) / len(y) + regularization_term\n",
    "    return cost\n",
    "\n",
    "# Gradient calculation with L2 regularization\n",
    "def grad_logreg_vec_regularized(X, y, w, b, lambda_reg): \n",
    "    y_pred = logistic(np.matmul(X, w) + b * np.ones(len(X)))\n",
    "    grad_w = (np.matmul(y_pred - y, X) + lambda_reg * w) / len(X)\n",
    "    grad_b = np.dot(y_pred - y, np.ones(len(X))) / len(X)\n",
    "    return grad_w, grad_b\n",
    "\n",
    "# Gradient descent with L2 regularization\n",
    "def grad_desc_regularized(X, y, w, b, alpha, n_iter, lambda_reg, show_cost=True, show_params=False): \n",
    "    cost_history = []\n",
    "    for i in range(n_iter):\n",
    "        grad_w, grad_b = grad_logreg_vec_regularized(X, y, w, b, lambda_reg)   \n",
    "        w -= alpha * grad_w\n",
    "        b -= alpha * grad_b\n",
    "        y_pred = logistic(np.matmul(X, w) + b * np.ones(len(X)))\n",
    "        cost = cost_func_vec_regularized(y, y_pred, w, lambda_reg)\n",
    "        cost_history.append(cost)\n",
    "        if show_cost and (i % (n_iter // 100) == 0 or i == n_iter - 1):\n",
    "            print(f\"Iteration {i:6}:    Cost  {float(cost_history[i]):3.5f}\")\n",
    "    return w, b, cost_history\n"
   ]
  },
  {
   "cell_type": "markdown",
   "id": "8881b69b",
   "metadata": {},
   "source": [
    "# TAKING RESULTS FOR THE CODE"
   ]
  },
  {
   "cell_type": "code",
   "execution_count": 29,
   "id": "59c5064d",
   "metadata": {},
   "outputs": [],
   "source": [
    "# Initialize weights and bias\n",
    "n_features = X_train.shape[1]\n",
    "w_init = np.full(n_features, 0.0)\n",
    "b_init = 0"
   ]
  },
  {
   "cell_type": "code",
   "execution_count": 30,
   "id": "3c543d6e",
   "metadata": {},
   "outputs": [],
   "source": [
    "# Set hyperparameters\n",
    "alpha = 0.5\n",
    "n_iter = 100\n",
    "lambda_reg = 1 # Regularization parameter"
   ]
  },
  {
   "cell_type": "code",
   "execution_count": 31,
   "id": "6fdc2884",
   "metadata": {},
   "outputs": [
    {
     "name": "stdout",
     "output_type": "stream",
     "text": [
      "Iteration      0:    Cost  0.69161\n",
      "Iteration      1:    Cost  0.69015\n",
      "Iteration      2:    Cost  0.68874\n",
      "Iteration      3:    Cost  0.68735\n",
      "Iteration      4:    Cost  0.68600\n",
      "Iteration      5:    Cost  0.68467\n",
      "Iteration      6:    Cost  0.68336\n",
      "Iteration      7:    Cost  0.68209\n",
      "Iteration      8:    Cost  0.68084\n",
      "Iteration      9:    Cost  0.67961\n",
      "Iteration     10:    Cost  0.67841\n",
      "Iteration     11:    Cost  0.67723\n",
      "Iteration     12:    Cost  0.67608\n",
      "Iteration     13:    Cost  0.67494\n",
      "Iteration     14:    Cost  0.67383\n",
      "Iteration     15:    Cost  0.67275\n",
      "Iteration     16:    Cost  0.67168\n",
      "Iteration     17:    Cost  0.67063\n",
      "Iteration     18:    Cost  0.66961\n",
      "Iteration     19:    Cost  0.66860\n",
      "Iteration     20:    Cost  0.66761\n",
      "Iteration     21:    Cost  0.66665\n",
      "Iteration     22:    Cost  0.66570\n",
      "Iteration     23:    Cost  0.66477\n",
      "Iteration     24:    Cost  0.66385\n",
      "Iteration     25:    Cost  0.66296\n",
      "Iteration     26:    Cost  0.66208\n",
      "Iteration     27:    Cost  0.66122\n",
      "Iteration     28:    Cost  0.66037\n",
      "Iteration     29:    Cost  0.65954\n",
      "Iteration     30:    Cost  0.65872\n",
      "Iteration     31:    Cost  0.65793\n",
      "Iteration     32:    Cost  0.65714\n",
      "Iteration     33:    Cost  0.65637\n",
      "Iteration     34:    Cost  0.65562\n",
      "Iteration     35:    Cost  0.65487\n",
      "Iteration     36:    Cost  0.65415\n",
      "Iteration     37:    Cost  0.65343\n",
      "Iteration     38:    Cost  0.65273\n",
      "Iteration     39:    Cost  0.65204\n",
      "Iteration     40:    Cost  0.65137\n",
      "Iteration     41:    Cost  0.65070\n",
      "Iteration     42:    Cost  0.65005\n",
      "Iteration     43:    Cost  0.64941\n",
      "Iteration     44:    Cost  0.64878\n",
      "Iteration     45:    Cost  0.64817\n",
      "Iteration     46:    Cost  0.64756\n",
      "Iteration     47:    Cost  0.64697\n",
      "Iteration     48:    Cost  0.64638\n",
      "Iteration     49:    Cost  0.64581\n",
      "Iteration     50:    Cost  0.64525\n",
      "Iteration     51:    Cost  0.64469\n",
      "Iteration     52:    Cost  0.64415\n",
      "Iteration     53:    Cost  0.64361\n",
      "Iteration     54:    Cost  0.64309\n",
      "Iteration     55:    Cost  0.64257\n",
      "Iteration     56:    Cost  0.64207\n",
      "Iteration     57:    Cost  0.64157\n",
      "Iteration     58:    Cost  0.64108\n",
      "Iteration     59:    Cost  0.64060\n",
      "Iteration     60:    Cost  0.64013\n",
      "Iteration     61:    Cost  0.63967\n",
      "Iteration     62:    Cost  0.63921\n",
      "Iteration     63:    Cost  0.63876\n",
      "Iteration     64:    Cost  0.63832\n",
      "Iteration     65:    Cost  0.63789\n",
      "Iteration     66:    Cost  0.63746\n",
      "Iteration     67:    Cost  0.63705\n",
      "Iteration     68:    Cost  0.63664\n",
      "Iteration     69:    Cost  0.63623\n",
      "Iteration     70:    Cost  0.63583\n",
      "Iteration     71:    Cost  0.63544\n",
      "Iteration     72:    Cost  0.63506\n",
      "Iteration     73:    Cost  0.63468\n",
      "Iteration     74:    Cost  0.63431\n",
      "Iteration     75:    Cost  0.63395\n",
      "Iteration     76:    Cost  0.63359\n",
      "Iteration     77:    Cost  0.63324\n",
      "Iteration     78:    Cost  0.63289\n",
      "Iteration     79:    Cost  0.63255\n",
      "Iteration     80:    Cost  0.63221\n",
      "Iteration     81:    Cost  0.63188\n",
      "Iteration     82:    Cost  0.63156\n",
      "Iteration     83:    Cost  0.63124\n",
      "Iteration     84:    Cost  0.63092\n",
      "Iteration     85:    Cost  0.63061\n",
      "Iteration     86:    Cost  0.63031\n",
      "Iteration     87:    Cost  0.63001\n",
      "Iteration     88:    Cost  0.62972\n",
      "Iteration     89:    Cost  0.62943\n",
      "Iteration     90:    Cost  0.62914\n",
      "Iteration     91:    Cost  0.62886\n",
      "Iteration     92:    Cost  0.62859\n",
      "Iteration     93:    Cost  0.62831\n",
      "Iteration     94:    Cost  0.62805\n",
      "Iteration     95:    Cost  0.62778\n",
      "Iteration     96:    Cost  0.62753\n",
      "Iteration     97:    Cost  0.62727\n",
      "Iteration     98:    Cost  0.62702\n",
      "Iteration     99:    Cost  0.62677\n"
     ]
    }
   ],
   "source": [
    "# Train the model\n",
    "w_final, b_final, cost_history = grad_desc_regularized(X_train.to_numpy(), y_train.to_numpy(), w_init, b_init, alpha, n_iter, lambda_reg)"
   ]
  },
  {
   "cell_type": "markdown",
   "id": "7114746d",
   "metadata": {},
   "source": [
    "# EVALUATION OF THE RESULT"
   ]
  },
  {
   "cell_type": "code",
   "execution_count": 32,
   "id": "aa7510a6",
   "metadata": {},
   "outputs": [],
   "source": [
    "# Make predictions\n",
    "def predict(X, w, b):\n",
    "    return logistic(np.matmul(X, w) + b * np.ones(len(X)))\n"
   ]
  },
  {
   "cell_type": "code",
   "execution_count": 33,
   "id": "627f0a89",
   "metadata": {},
   "outputs": [
    {
     "name": "stdout",
     "output_type": "stream",
     "text": [
      "Training F1 Score: 0.6958\n",
      "Test F1 Score: 0.6994\n"
     ]
    }
   ],
   "source": [
    "def calculate_precision_recall(y_true, y_pred):\n",
    "    true_positives = np.sum((y_true == 1) & (y_pred == 1))\n",
    "    false_positives = np.sum((y_true == 0) & (y_pred == 1))\n",
    "    false_negatives = np.sum((y_true == 1) & (y_pred == 0))\n",
    "\n",
    "    precision = true_positives / (true_positives + false_positives)\n",
    "    recall = true_positives / (true_positives + false_negatives)\n",
    "\n",
    "    return precision, recall\n",
    "\n",
    "def calculate_f1_score(y_true, y_pred):\n",
    "    precision, recall = calculate_precision_recall(y_true, y_pred)\n",
    "    f1_score = 2 * (precision * recall) / (precision + recall) if (precision + recall) != 0 else 0\n",
    "    return f1_score\n",
    "\n",
    "# Calculate F1 score for train and test sets\n",
    "train_f1_score = calculate_f1_score(y_train.to_numpy(), (predict(X_train.to_numpy(), w_final, b_final) >= 0.5).astype(int))\n",
    "test_f1_score = calculate_f1_score(y_test.to_numpy(), (predict(X_test.to_numpy(), w_final, b_final) >= 0.5).astype(int))\n",
    "\n",
    "print(f\"Training F1 Score: {train_f1_score:.4f}\")\n",
    "print(f\"Test F1 Score: {test_f1_score:.4f}\")"
   ]
  },
  {
   "cell_type": "markdown",
   "id": "e34b91f0",
   "metadata": {},
   "source": [
    "# EVALUATION OF RESULT FOR DIFFERENT VALUES OF ALPHA"
   ]
  },
  {
   "cell_type": "code",
   "execution_count": 34,
   "id": "8bf15cb0",
   "metadata": {},
   "outputs": [
    {
     "data": {
      "image/png": "[encoded data removed]",
      "text/plain": [
       "<Figure size 1000x600 with 1 Axes>"
      ]
     },
     "metadata": {},
     "output_type": "display_data"
    },
    {
     "name": "stdout",
     "output_type": "stream",
     "text": [
      "F1 Scores for Different Alpha Values:\n",
      "Alpha\tTraining F1 Score\tTest F1 Score\n",
      "0.001\t0.0114\t\t0.0135\n",
      "0.01\t0.3569\t\t0.3654\n",
      "0.1\t0.6799\t\t0.6794\n",
      "0.2\t0.6913\t\t0.6939\n",
      "0.5\t0.6973\t\t0.7039\n"
     ]
    }
   ],
   "source": [
    "# Define a range of alpha values to test\n",
    "alphas = [0.001, 0.01, 0.1, 0.2, 0.5]\n",
    "\n",
    "# Initialize weights and bias\n",
    "w_init = np.full(n_features, 0.0)\n",
    "b_init = 0\n",
    "\n",
    "# Set other hyperparameters\n",
    "n_iter = 100\n",
    "lambda_reg = 0.0005\n",
    "\n",
    "# Initialize dictionaries to store F1 scores and cost histories\n",
    "f1_scores = {}\n",
    "cost_histories = {}\n",
    "\n",
    "# Train the model for each alpha value and record the cost history and F1 score\n",
    "for alpha in alphas:\n",
    "    # Train the model\n",
    "    w_final, b_final, cost_history = grad_desc_regularized(X_train.to_numpy(), y_train.to_numpy(), w_init, b_init, alpha, n_iter, lambda_reg, show_cost=False)\n",
    "    \n",
    "    # Calculate F1 score for training set\n",
    "    train_f1_score = calculate_f1_score(y_train.to_numpy(), (predict(X_train.to_numpy(), w_final, b_final) >= 0.5).astype(int))\n",
    "    \n",
    "    # Calculate F1 score for test set\n",
    "    test_f1_score = calculate_f1_score(y_test.to_numpy(), (predict(X_test.to_numpy(), w_final, b_final) >= 0.5).astype(int))\n",
    "    \n",
    "    # Store F1 scores and cost histories\n",
    "    f1_scores[alpha] = (train_f1_score, test_f1_score)\n",
    "    cost_histories[alpha] = cost_history\n",
    "\n",
    "# Plot the cost function over iterations for each alpha value\n",
    "plt.figure(figsize=(10, 6))\n",
    "for alpha, cost_history in cost_histories.items():\n",
    "    plt.plot(range(n_iter), cost_history, label=f'alpha={alpha}')\n",
    "plt.title('Cost Function Over Iterations for Different Alpha Values')\n",
    "plt.xlabel('Iterations')\n",
    "plt.ylabel('Cost')\n",
    "plt.legend()\n",
    "plt.grid(True)\n",
    "plt.show()\n",
    "\n",
    "# Output F1 scores for each alpha value\n",
    "print(\"F1 Scores for Different Alpha Values:\")\n",
    "print(\"Alpha\\tTraining F1 Score\\tTest F1 Score\")\n",
    "for alpha, (train_f1_score, test_f1_score) in f1_scores.items():\n",
    "    print(f\"{alpha}\\t{train_f1_score:.4f}\\t\\t{test_f1_score:.4f}\")\n"
   ]
  },
  {
   "cell_type": "markdown",
   "id": "9b3e8902",
   "metadata": {},
   "source": [
    "# EVALUATION OF RESULT FOR DIFFERENT VALUES OF lambda"
   ]
  },
  {
   "cell_type": "code",
   "execution_count": 35,
   "id": "fdb95635",
   "metadata": {},
   "outputs": [
    {
     "data": {
      "image/png": "[encoded data removed]",
      "text/plain": [
       "<Figure size 1000x600 with 1 Axes>"
      ]
     },
     "metadata": {},
     "output_type": "display_data"
    },
    {
     "name": "stdout",
     "output_type": "stream",
     "text": [
      "F1 Scores for Different Lambda Values:\n",
      "Lambda\tTraining F1 Score\tTest F1 Score\n",
      "0.0001\t0.6886\t\t0.6905\n",
      "0.001\t0.6937\t\t0.6969\n",
      "0.01\t0.6961\t\t0.7024\n",
      "0.1\t0.6973\t\t0.7040\n",
      "1\t0.6973\t\t0.7044\n"
     ]
    }
   ],
   "source": [
    "# Define a range of lambda values to test\n",
    "lambdas = [0.0001, 0.001, 0.01, 0.1, 1]\n",
    "\n",
    "# Initialize weights and bias\n",
    "w_init = np.full(n_features, 0.0)\n",
    "b_init = 0\n",
    "\n",
    "# Set other hyperparameters\n",
    "alpha = 0.2\n",
    "n_iter = 100\n",
    "\n",
    "# Initialize dictionaries to store F1 scores and cost histories\n",
    "f1_scores_lambda = {}\n",
    "cost_histories_lambda = {}\n",
    "\n",
    "# Train the model for each lambda value and record the cost history and F1 score\n",
    "for lambda_reg in lambdas:\n",
    "    # Train the model\n",
    "    w_final, b_final, cost_history = grad_desc_regularized(X_train.to_numpy(), y_train.to_numpy(), w_init, b_init, alpha, n_iter, lambda_reg, show_cost=False)\n",
    "    \n",
    "    # Calculate F1 score for training set\n",
    "    train_f1_score = calculate_f1_score(y_train.to_numpy(), (predict(X_train.to_numpy(), w_final, b_final) >= 0.5).astype(int))\n",
    "    \n",
    "    # Calculate F1 score for test set\n",
    "    test_f1_score = calculate_f1_score(y_test.to_numpy(), (predict(X_test.to_numpy(), w_final, b_final) >= 0.5).astype(int))\n",
    "    \n",
    "    # Store F1 scores and cost histories\n",
    "    f1_scores_lambda[lambda_reg] = (train_f1_score, test_f1_score)\n",
    "    cost_histories_lambda[lambda_reg] = cost_history\n",
    "\n",
    "# Plot the cost function over iterations for each lambda value\n",
    "plt.figure(figsize=(10, 6))\n",
    "for lambda_reg, cost_history in cost_histories_lambda.items():\n",
    "    plt.plot(range(n_iter), cost_history, label=f'lambda={lambda_reg}')\n",
    "plt.title('Cost Function Over Iterations for Different Lambda Values')\n",
    "plt.xlabel('Iterations')\n",
    "plt.ylabel('Cost')\n",
    "plt.legend()\n",
    "plt.grid(True)\n",
    "plt.show()\n",
    "\n",
    "# Output F1 scores for each lambda value\n",
    "print(\"F1 Scores for Different Lambda Values:\")\n",
    "print(\"Lambda\\tTraining F1 Score\\tTest F1 Score\")\n",
    "for lambda_reg, (train_f1_score, test_f1_score) in f1_scores_lambda.items():\n",
    "    print(f\"{lambda_reg}\\t{train_f1_score:.4f}\\t\\t{test_f1_score:.4f}\")\n"
   ]
  },
  {
   "cell_type": "markdown",
   "id": "810270cf",
   "metadata": {},
   "source": [
    "## BEST RESULT"
   ]
  },
  {
   "cell_type": "markdown",
   "id": "e03cf105",
   "metadata": {},
   "source": [
    "Training F1 Score: 0.7015 Test F1 Score: 0.7074\n",
    "\n",
    "alpha = 0.5 n_iter = 1000 lambda_reg = 0.1"
   ]
  },
  {
   "cell_type": "code",
   "execution_count": null,
   "id": "4eb1f486",
   "metadata": {},
   "outputs": [],
   "source": []
  }
 ],
 "metadata": {
  "kernelspec": {
   "display_name": "Python 3 (ipykernel)",
   "language": "python",
   "name": "python3"
  },
  "language_info": {
   "codemirror_mode": {
    "name": "ipython",
    "version": 3
   },
   "file_extension": ".py",
   "mimetype": "text/x-python",
   "name": "python",
   "nbconvert_exporter": "python",
   "pygments_lexer": "ipython3",
   "version": "3.11.5"
  }
 },
 "nbformat": 4,
 "nbformat_minor": 5
}
