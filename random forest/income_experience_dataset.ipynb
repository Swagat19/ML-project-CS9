{
 "cells": [
  {
   "cell_type": "code",
   "execution_count": 1,
   "id": "4df2c5d0",
   "metadata": {},
   "outputs": [],
   "source": [
    "import numpy as np\n",
    "import pandas as pd\n",
    "from matplotlib import pyplot as plt\n",
    "import seaborn as sns"
   ]
  },
  {
   "cell_type": "code",
   "execution_count": 2,
   "id": "b50fd45a",
   "metadata": {},
   "outputs": [],
   "source": [
    "train_df = pd.read_csv('D:/Desktop/me/IITG/IIT Guwahati sem 6/CS361/archive/Training Data.csv')"
   ]
  },
  {
   "cell_type": "code",
   "execution_count": 3,
   "id": "fe096a9c",
   "metadata": {},
   "outputs": [
    {
     "data": {
      "text/plain": [
       "Index(['Id', 'Income', 'Age', 'Experience', 'Married/Single',\n",
       "       'House_Ownership', 'Car_Ownership', 'Profession', 'CITY', 'STATE',\n",
       "       'CURRENT_JOB_YRS', 'CURRENT_HOUSE_YRS', 'Risk_Flag'],\n",
       "      dtype='object')"
      ]
     },
     "execution_count": 3,
     "metadata": {},
     "output_type": "execute_result"
    }
   ],
   "source": [
    "train_df.columns"
   ]
  },
  {
   "cell_type": "code",
   "execution_count": 4,
   "id": "51803b21",
   "metadata": {},
   "outputs": [
    {
     "data": {
      "text/plain": [
       "(10310, 9999938)"
      ]
     },
     "execution_count": 4,
     "metadata": {},
     "output_type": "execute_result"
    }
   ],
   "source": [
    "min_value = train_df['Income'].min()\n",
    "max_value = train_df['Income'].max()\n",
    "min_value,max_value"
   ]
  },
  {
   "cell_type": "code",
   "execution_count": 5,
   "id": "d4aeb89e",
   "metadata": {},
   "outputs": [
    {
     "data": {
      "text/plain": [
       "(0, 20)"
      ]
     },
     "execution_count": 5,
     "metadata": {},
     "output_type": "execute_result"
    }
   ],
   "source": [
    "min_value = train_df['Experience'].min()\n",
    "max_value = train_df['Experience'].max()\n",
    "min_value,max_value"
   ]
  },
  {
   "cell_type": "code",
   "execution_count": 16,
   "id": "a24a4b46",
   "metadata": {},
   "outputs": [
    {
     "name": "stdout",
     "output_type": "stream",
     "text": [
      "Block: red, 'x' count: 436, 'o' count: 110\n",
      "Block: blue, 'x' count: 891, 'o' count: 125\n",
      "Block: green, 'x' count: 611, 'o' count: 146\n",
      "Block: orange, 'x' count: 6267, 'o' count: 1165\n",
      "Block: purple, 'x' count: 6253, 'o' count: 870\n",
      "Block: yellow, 'x' count: 6613, 'o' count: 968\n",
      "Block: cyan, 'x' count: 65046, 'o' count: 10156\n",
      "Block: magenta, 'x' count: 66917, 'o' count: 8927\n"
     ]
    },
    {
     "name": "stderr",
     "output_type": "stream",
     "text": [
      "No artists with labels found to put in legend.  Note that artists whose label start with an underscore are ignored when legend() is called with no argument.\n"
     ]
    },
    {
     "name": "stdout",
     "output_type": "stream",
     "text": [
      "Block: brown, 'x' count: 67970, 'o' count: 8529\n"
     ]
    },
    {
     "data": {
      "image/png": "[encoded data removed]",
      "text/plain": [
       "<Figure size 432x288 with 1 Axes>"
      ]
     },
     "metadata": {
      "needs_background": "light"
     },
     "output_type": "display_data"
    },
    {
     "data": {
      "text/plain": [
       "<Figure size 1440x864 with 0 Axes>"
      ]
     },
     "metadata": {},
     "output_type": "display_data"
    }
   ],
   "source": [
    "import matplotlib.pyplot as plt\n",
    "\n",
    "# Assuming train_df['Income'], train_df['CURRENT_JOB_YRS'], and train_df['RISK_FLAG'] are your columns\n",
    "income_data = train_df['Income']\n",
    "experience_data = train_df['Experience']\n",
    "risk_flag_data = train_df['Risk_Flag']\n",
    "\n",
    "# Define the segments based on the conditions you provided\n",
    "segments = [\n",
    "    (income_data < 1e5) & (experience_data < 7),\n",
    "    (income_data < 1e5) & (experience_data >= 7) & (experience_data < 14),\n",
    "    (income_data < 1e5) & (experience_data >= 14) ,\n",
    "    (income_data >= 1e5) & (income_data < 1e6) & (experience_data < 7),\n",
    "    (income_data >= 1e5) & (income_data < 1e6) & (experience_data >= 7) & (experience_data < 14),\n",
    "    (income_data >= 1e5) & (income_data < 1e6) & (experience_data >= 14),\n",
    "    (income_data >= 1e6) & (income_data < 1e7) & (experience_data < 7),\n",
    "    (income_data >= 1e6) & (income_data < 1e7) & (experience_data >= 7) & (experience_data < 14),\n",
    "    (income_data >= 1e6) & (income_data < 1e7) & (experience_data >= 14)\n",
    "]\n",
    "\n",
    "# Define colors for each segment\n",
    "colors = ['red', 'blue', 'green', 'orange', 'purple', 'yellow', 'cyan', 'magenta', 'brown']\n",
    "\n",
    "# Define markers for each RISK_FLAG category\n",
    "markers = ['x', 'o']  # Replaced 'tick' with 'o'\n",
    "\n",
    "# Plot each segment with a different color and marker based on RISK_FLAG\n",
    "for seg, color in zip(segments, colors):\n",
    "    for flag, marker in zip(range(2), markers):  # Iterate over RISK_FLAG categories (0 and 1)\n",
    "        data = seg & (risk_flag_data == flag)\n",
    "        if data.any():\n",
    "            if marker == 'o':  # Change the color for 'o' marker\n",
    "                plt.plot(income_data[data], experience_data[data], marker=marker, markersize=2, linestyle='', color='black')\n",
    "            else:\n",
    "                plt.plot(income_data[data], experience_data[data], marker=marker, markersize=2, linestyle='', color=color)\n",
    "    \n",
    "    # Print the number of 'x' and 'o' markers in the current block\n",
    "    num_x = sum((risk_flag_data[seg] == 0) & (income_data[seg] >= 0) & (experience_data[seg] >= 0))\n",
    "    num_o = sum((risk_flag_data[seg] == 1) & (income_data[seg] >= 0) & (experience_data[seg] >= 0))\n",
    "    print(f\"Block: {color}, 'x' count: {num_x}, 'o' count: {num_o}\")\n",
    "\n",
    "plt.xlabel('Income')\n",
    "plt.ylabel('Current Experience')\n",
    "plt.xscale('log')  # Set x-axis to logarithmic scale\n",
    "plt.yticks([0, 7, 14], ['0', '7', '14'])  # Set custom ticks and labels for y-axis\n",
    "plt.ylim(0, 20)     # Set y-axis range from 0 to 14\n",
    "plt.grid(True)     # Show grid\n",
    "plt.title('Plot of Income vs Experience')\n",
    "plt.legend()\n",
    "plt.figure(figsize=(20,12))\n",
    "plt.show()"
   ]
  },
  {
   "cell_type": "code",
   "execution_count": 19,
   "id": "0554683d",
   "metadata": {},
   "outputs": [
    {
     "name": "stdout",
     "output_type": "stream",
     "text": [
      "Region 0:\n",
      "Count of 'x': 20\n",
      "Count of 'o': 69\n",
      "Region 1:\n",
      "Count of 'x': 45\n",
      "Count of 'o': 79\n",
      "Region 2:\n",
      "Count of 'x': 86\n",
      "Count of 'o': 93\n",
      "Region 3:\n",
      "Count of 'x': 390\n",
      "Count of 'o': 742\n",
      "Region 4:\n",
      "Count of 'x': 569\n",
      "Count of 'o': 550\n",
      "Region 5:\n",
      "Count of 'x': 1725\n",
      "Count of 'o': 612\n",
      "Region 6:\n",
      "Count of 'x': 5724\n",
      "Count of 'o': 6427\n",
      "Region 7:\n",
      "Count of 'x': 17283\n",
      "Count of 'o': 5656\n",
      "Region 8:\n",
      "Count of 'x': 30229\n",
      "Count of 'o': 5368\n"
     ]
    }
   ],
   "source": [
    "import pandas as pd\n",
    "\n",
    "# Initialize a new DataFrame to store the modified data\n",
    "new_train_df = train_df.copy()# Assuming train_df['Income'], train_df['CURRENT_JOB_YRS'], and train_df['RISK_FLAG'] are your columns\n",
    "income_data = new_train_df['Income']\n",
    "experience_data = new_train_df['Experience']\n",
    "risk_flag_data = new_train_df['Risk_Flag']\n",
    "\n",
    "# Define the segments based on the conditions you provided\n",
    "segments = [\n",
    "    (income_data < 1e5) & (experience_data < 7),\n",
    "    (income_data < 1e5) & (experience_data >= 7) & (experience_data < 14),\n",
    "    (income_data < 1e5) & (experience_data >= 14) ,\n",
    "    (income_data >= 1e5) & (income_data < 1e6) & (experience_data < 7),\n",
    "    (income_data >= 1e5) & (income_data < 1e6) & (experience_data >= 7) & (experience_data < 14),\n",
    "    (income_data >= 1e5) & (income_data < 1e6) & (experience_data >= 14),\n",
    "    (income_data >= 1e6) & (income_data < 1e7) & (experience_data < 7),\n",
    "    (income_data >= 1e6) & (income_data < 1e7) & (experience_data >= 7) & (experience_data < 14),\n",
    "    (income_data >= 1e6) & (income_data < 1e7) & (experience_data >= 14)\n",
    "]\n",
    "\n",
    "# Define ratios for 'x' to 'o' markers in each region\n",
    "ratios = [\n",
    "    (20, 110),  # red\n",
    "    (45, 125),  # blue\n",
    "    (95, 146),  # green\n",
    "    (400, 1165),  # orange\n",
    "    (600, 870),  # purple\n",
    "    (2000, 968),  # yellow\n",
    "    (6000, 10156),  # cyan\n",
    "    (20000, 8927),  # magenta\n",
    "    (40000, 8529)   # brown\n",
    "]\n",
    "\n",
    "# Iterate over segments and adjust counts of 'x' and 'o' markers according to ratios\n",
    "for seg, ratio in zip(segments, ratios):\n",
    "    num_x, num_o = ratio\n",
    "    mask_x = (risk_flag_data == 0) & seg\n",
    "    mask_o = (risk_flag_data == 1) & seg\n",
    "    indices_x = mask_x[mask_x].sample(n=num_x, replace=True).index\n",
    "    indices_o = mask_o[mask_o].sample(n=num_o, replace=True).index\n",
    "    new_train_df.loc[indices_x, 'RISK_FLAG'] = 0\n",
    "    new_train_df.loc[indices_o, 'RISK_FLAG'] = 1\n",
    "\n",
    "# Verify the counts of 'x' and 'o' markers in each region\n",
    "for i, seg in enumerate(segments):\n",
    "    print(f\"Region {i}:\")\n",
    "    print(\"Count of 'x':\", sum((new_train_df['RISK_FLAG'] == 0) & seg))\n",
    "    print(\"Count of 'o':\", sum((new_train_df['RISK_FLAG'] == 1) & seg))# Assuming train_df['Income'], train_df['CURRENT_JOB_YRS'], and train_df['RISK_FLAG'] are your columns\n",
    "\n",
    "# Now, new_train_df contains the modified data with the specified ratios of 'x' to 'o' markers in different regions\n",
    "new_train_df = new_train_df.dropna(subset=['RISK_FLAG'])\n",
    "new_train_df = new_train_df.drop(columns=['Risk_Flag'])\n",
    "new_train_df = new_train_df.rename(columns={'RISK_FLAG': 'Risk_Flag'})\n",
    "new_train_df['Risk_Flag'] = new_train_df['Risk_Flag'].astype(int)"
   ]
  },
  {
   "cell_type": "code",
   "execution_count": 20,
   "id": "807f6d60",
   "metadata": {},
   "outputs": [
    {
     "data": {
      "text/plain": [
       "1         0\n",
       "3         1\n",
       "6         0\n",
       "14        1\n",
       "24        0\n",
       "         ..\n",
       "251983    0\n",
       "251991    0\n",
       "251993    1\n",
       "251997    0\n",
       "251999    0\n",
       "Name: Risk_Flag, Length: 75667, dtype: int32"
      ]
     },
     "execution_count": 20,
     "metadata": {},
     "output_type": "execute_result"
    }
   ],
   "source": [
    "new_train_df['Risk_Flag']"
   ]
  },
  {
   "cell_type": "code",
   "execution_count": 21,
   "id": "a8d5f5ed",
   "metadata": {},
   "outputs": [
    {
     "name": "stdout",
     "output_type": "stream",
     "text": [
      "Block: red, 'x' count: 20, 'o' count: 69\n",
      "Block: blue, 'x' count: 45, 'o' count: 79\n",
      "Block: green, 'x' count: 86, 'o' count: 93\n",
      "Block: orange, 'x' count: 390, 'o' count: 742\n",
      "Block: purple, 'x' count: 569, 'o' count: 550\n",
      "Block: yellow, 'x' count: 1725, 'o' count: 612\n",
      "Block: cyan, 'x' count: 5724, 'o' count: 6427\n"
     ]
    },
    {
     "name": "stderr",
     "output_type": "stream",
     "text": [
      "No artists with labels found to put in legend.  Note that artists whose label start with an underscore are ignored when legend() is called with no argument.\n"
     ]
    },
    {
     "name": "stdout",
     "output_type": "stream",
     "text": [
      "Block: magenta, 'x' count: 17283, 'o' count: 5656\n",
      "Block: brown, 'x' count: 30229, 'o' count: 5368\n"
     ]
    },
    {
     "data": {
      "image/png": "[encoded data removed]",
      "text/plain": [
       "<Figure size 432x288 with 1 Axes>"
      ]
     },
     "metadata": {
      "needs_background": "light"
     },
     "output_type": "display_data"
    },
    {
     "data": {
      "text/plain": [
       "<Figure size 1440x864 with 0 Axes>"
      ]
     },
     "metadata": {},
     "output_type": "display_data"
    }
   ],
   "source": [
    "import matplotlib.pyplot as plt\n",
    "\n",
    "# Assuming train_df['Income'], train_df['CURRENT_JOB_YRS'], and train_df['RISK_FLAG'] are your columns\n",
    "income_data = new_train_df['Income']\n",
    "experience_data = new_train_df['Experience']\n",
    "risk_flag_data = new_train_df['Risk_Flag']\n",
    "\n",
    "# Define the segments based on the conditions you provided\n",
    "segments = [\n",
    "    (income_data < 1e5) & (experience_data < 7),\n",
    "    (income_data < 1e5) & (experience_data >= 7) & (experience_data < 14),\n",
    "    (income_data < 1e5) & (experience_data >= 14) ,\n",
    "    (income_data >= 1e5) & (income_data < 1e6) & (experience_data < 7),\n",
    "    (income_data >= 1e5) & (income_data < 1e6) & (experience_data >= 7) & (experience_data < 14),\n",
    "    (income_data >= 1e5) & (income_data < 1e6) & (experience_data >= 14),\n",
    "    (income_data >= 1e6) & (income_data < 1e7) & (experience_data < 7),\n",
    "    (income_data >= 1e6) & (income_data < 1e7) & (experience_data >= 7) & (experience_data < 14),\n",
    "    (income_data >= 1e6) & (income_data < 1e7) & (experience_data >= 14)\n",
    "]\n",
    "\n",
    "# Define colors for each segment\n",
    "colors = ['red', 'blue', 'green', 'orange', 'purple', 'yellow', 'cyan', 'magenta', 'brown']\n",
    "\n",
    "# Define markers for each RISK_FLAG category\n",
    "markers = ['x', 'o']  # Replaced 'tick' with 'o'\n",
    "\n",
    "# Plot each segment with a different color and marker based on RISK_FLAG\n",
    "for seg, color in zip(segments, colors):\n",
    "    for flag, marker in zip(range(2), markers):  # Iterate over RISK_FLAG categories (0 and 1)\n",
    "        data = seg & (risk_flag_data == flag)\n",
    "        if data.any():\n",
    "            if marker == 'o':  # Change the color for 'o' marker\n",
    "                plt.plot(income_data[data], experience_data[data], marker=marker, markersize=2, linestyle='', color='black')\n",
    "            else:\n",
    "                plt.plot(income_data[data], experience_data[data], marker=marker, markersize=2, linestyle='', color=color)\n",
    "    \n",
    "    # Print the number of 'x' and 'o' markers in the current block\n",
    "    num_x = sum((risk_flag_data[seg] == 0) & (income_data[seg] >= 0) & (experience_data[seg] >= 0))\n",
    "    num_o = sum((risk_flag_data[seg] == 1) & (income_data[seg] >= 0) & (experience_data[seg] >= 0))\n",
    "    print(f\"Block: {color}, 'x' count: {num_x}, 'o' count: {num_o}\")\n",
    "\n",
    "plt.xlabel('Income')\n",
    "plt.ylabel('Current Experience')\n",
    "plt.xscale('log')  # Set x-axis to logarithmic scale\n",
    "plt.yticks([0, 7, 14], ['0', '7', '14'])  # Set custom ticks and labels for y-axis\n",
    "plt.ylim(0, 20)     # Set y-axis range from 0 to 14\n",
    "plt.grid(True)     # Show grid\n",
    "plt.title('Plot of Income vs Experience')\n",
    "plt.legend()\n",
    "plt.figure(figsize=(20,12))\n",
    "plt.show()"
   ]
  },
  {
   "cell_type": "code",
   "execution_count": null,
   "id": "20df4b8b",
   "metadata": {},
   "outputs": [],
   "source": []
  }
 ],
 "metadata": {
  "kernelspec": {
   "display_name": "Python 3 (ipykernel)",
   "language": "python",
   "name": "python3"
  },
  "language_info": {
   "codemirror_mode": {
    "name": "ipython",
    "version": 3
   },
   "file_extension": ".py",
   "mimetype": "text/x-python",
   "name": "python",
   "nbconvert_exporter": "python",
   "pygments_lexer": "ipython3",
   "version": "3.9.12"
  }
 },
 "nbformat": 4,
 "nbformat_minor": 5
}
