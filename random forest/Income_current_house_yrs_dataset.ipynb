{
 "cells": [
  {
   "cell_type": "code",
   "execution_count": 1,
   "id": "7c2e43d2",
   "metadata": {},
   "outputs": [],
   "source": [
    "import numpy as np\n",
    "import pandas as pd\n",
    "from matplotlib import pyplot as plt\n",
    "import seaborn as sns"
   ]
  },
  {
   "cell_type": "code",
   "execution_count": 2,
   "id": "c032a034",
   "metadata": {},
   "outputs": [],
   "source": [
    "train_df = pd.read_csv('D:/Desktop/me/IITG/IIT Guwahati sem 6/CS361/archive/Training Data.csv')"
   ]
  },
  {
   "cell_type": "code",
   "execution_count": 3,
   "id": "7ec207f0",
   "metadata": {},
   "outputs": [
    {
     "data": {
      "text/plain": [
       "Index(['Id', 'Income', 'Age', 'Experience', 'Married/Single',\n",
       "       'House_Ownership', 'Car_Ownership', 'Profession', 'CITY', 'STATE',\n",
       "       'CURRENT_JOB_YRS', 'CURRENT_HOUSE_YRS', 'Risk_Flag'],\n",
       "      dtype='object')"
      ]
     },
     "execution_count": 3,
     "metadata": {},
     "output_type": "execute_result"
    }
   ],
   "source": [
    "train_df.columns"
   ]
  },
  {
   "cell_type": "code",
   "execution_count": 4,
   "id": "9e9eb7f1",
   "metadata": {},
   "outputs": [
    {
     "data": {
      "text/plain": [
       "(10310, 9999938)"
      ]
     },
     "execution_count": 4,
     "metadata": {},
     "output_type": "execute_result"
    }
   ],
   "source": [
    "min_value = train_df['Income'].min()\n",
    "max_value = train_df['Income'].max()\n",
    "min_value,max_value"
   ]
  },
  {
   "cell_type": "code",
   "execution_count": 5,
   "id": "cc1212ca",
   "metadata": {},
   "outputs": [
    {
     "data": {
      "text/plain": [
       "(10, 14)"
      ]
     },
     "execution_count": 5,
     "metadata": {},
     "output_type": "execute_result"
    }
   ],
   "source": [
    "min_value = train_df['CURRENT_HOUSE_YRS'].min()\n",
    "max_value = train_df['CURRENT_HOUSE_YRS'].max()\n",
    "min_value,max_value"
   ]
  },
  {
   "cell_type": "code",
   "execution_count": 7,
   "id": "7941a5ed",
   "metadata": {},
   "outputs": [
    {
     "name": "stdout",
     "output_type": "stream",
     "text": [
      "Block: red, 'x' count: 613, 'o' count: 146\n",
      "Block: blue, 'x' count: 889, 'o' count: 128\n",
      "Block: green, 'x' count: 436, 'o' count: 107\n",
      "Block: orange, 'x' count: 7487, 'o' count: 1241\n",
      "Block: purple, 'x' count: 8315, 'o' count: 1190\n",
      "Block: yellow, 'x' count: 3331, 'o' count: 572\n",
      "Block: cyan, 'x' count: 79882, 'o' count: 11178\n"
     ]
    },
    {
     "name": "stderr",
     "output_type": "stream",
     "text": [
      "No artists with labels found to put in legend.  Note that artists whose label start with an underscore are ignored when legend() is called with no argument.\n"
     ]
    },
    {
     "name": "stdout",
     "output_type": "stream",
     "text": [
      "Block: magenta, 'x' count: 80760, 'o' count: 11168\n",
      "Block: brown, 'x' count: 39291, 'o' count: 5266\n"
     ]
    },
    {
     "data": {
      "image/png": "[encoded data removed]",
      "text/plain": [
       "<Figure size 432x288 with 1 Axes>"
      ]
     },
     "metadata": {
      "needs_background": "light"
     },
     "output_type": "display_data"
    },
    {
     "data": {
      "text/plain": [
       "<Figure size 1440x864 with 0 Axes>"
      ]
     },
     "metadata": {},
     "output_type": "display_data"
    }
   ],
   "source": [
    "income_data = train_df['Income']\n",
    "house_data = train_df['CURRENT_HOUSE_YRS']\n",
    "risk_flag_data = train_df['Risk_Flag']\n",
    "\n",
    "# Define the segments based on the conditions you provided\n",
    "segments = [\n",
    "    (income_data < 1e5) & (house_data < 12),\n",
    "    (income_data < 1e5) & (house_data >= 12) & (house_data < 14),\n",
    "    (income_data < 1e5) & (house_data >= 14) ,\n",
    "    (income_data >= 1e5) & (income_data < 1e6) & (house_data < 12),\n",
    "    (income_data >= 1e5) & (income_data < 1e6) & (house_data >= 12) & (house_data < 14),\n",
    "    (income_data >= 1e5) & (income_data < 1e6) & (house_data >= 14),\n",
    "    (income_data >= 1e6) & (income_data < 1e7) & (house_data < 12),\n",
    "    (income_data >= 1e6) & (income_data < 1e7) & (house_data >= 12) & (house_data < 14),\n",
    "    (income_data >= 1e6) & (income_data < 1e7) & (house_data >= 14)\n",
    "]\n",
    "\n",
    "# Define colors for each segment\n",
    "colors = ['red', 'blue', 'green', 'orange', 'purple', 'yellow', 'cyan', 'magenta', 'brown']\n",
    "\n",
    "# Define markers for each RISK_FLAG category\n",
    "markers = ['x', 'o']  # Replaced 'tick' with 'o'\n",
    "\n",
    "# Plot each segment with a different color and marker based on RISK_FLAG\n",
    "for seg, color in zip(segments, colors):\n",
    "    for flag, marker in zip(range(2), markers):  # Iterate over RISK_FLAG categories (0 and 1)\n",
    "        data = seg & (risk_flag_data == flag)\n",
    "        if data.any():\n",
    "            if marker == 'o':  # Change the color for 'o' marker\n",
    "                plt.plot(income_data[data], house_data[data], marker=marker, markersize=2, linestyle='', color='black')\n",
    "            else:\n",
    "                plt.plot(income_data[data], house_data[data], marker=marker, markersize=2, linestyle='', color=color)\n",
    "    \n",
    "    # Print the number of 'x' and 'o' markers in the current block\n",
    "    num_x = sum((risk_flag_data[seg] == 0) & (income_data[seg] >= 0) & (house_data[seg] >= 0))\n",
    "    num_o = sum((risk_flag_data[seg] == 1) & (income_data[seg] >= 0) & (house_data[seg] >= 0))\n",
    "    print(f\"Block: {color}, 'x' count: {num_x}, 'o' count: {num_o}\")\n",
    "\n",
    "plt.xlabel('Income')\n",
    "plt.ylabel('Current Experience')\n",
    "plt.xscale('log')  # Set x-axis to logarithmic scale\n",
    "plt.yticks([10, 12, 14], ['10', '12', '14'])  # Set custom ticks and labels for y-axis\n",
    "plt.ylim(10, 16)     # Set y-axis range from 0 to 14\n",
    "plt.grid(True)     # Show grid\n",
    "plt.title('Plot of Income vs Current_House_Yrs')\n",
    "plt.legend()\n",
    "plt.figure(figsize=(20,12))\n",
    "plt.show()"
   ]
  },
  {
   "cell_type": "code",
   "execution_count": 12,
   "id": "beea4b14",
   "metadata": {},
   "outputs": [
    {
     "name": "stdout",
     "output_type": "stream",
     "text": [
      "Region 0:\n",
      "Count of 'x': 29\n",
      "Count of 'o': 91\n",
      "Region 1:\n",
      "Count of 'x': 55\n",
      "Count of 'o': 82\n",
      "Region 2:\n",
      "Count of 'x': 77\n",
      "Count of 'o': 69\n",
      "Region 3:\n",
      "Count of 'x': 388\n",
      "Count of 'o': 798\n",
      "Region 4:\n",
      "Count of 'x': 767\n",
      "Count of 'o': 745\n",
      "Region 5:\n",
      "Count of 'x': 923\n",
      "Count of 'o': 357\n",
      "Region 6:\n",
      "Count of 'x': 7611\n",
      "Count of 'o': 7085\n",
      "Region 7:\n",
      "Count of 'x': 17692\n",
      "Count of 'o': 7083\n",
      "Region 8:\n",
      "Count of 'x': 18507\n",
      "Count of 'o': 3298\n"
     ]
    }
   ],
   "source": [
    "import pandas as pd\n",
    "\n",
    "# Initialize a new DataFrame to store the modified data\n",
    "new_train_df = train_df.copy()# Assuming train_df['Income'], train_df['CURRENT_JOB_YRS'], and train_df['RISK_FLAG'] are your columns\n",
    "income_data = new_train_df['Income']\n",
    "house_data = new_train_df['CURRENT_HOUSE_YRS']\n",
    "risk_flag_data = new_train_df['Risk_Flag']\n",
    "\n",
    "# Define the segments based on the conditions you provided\n",
    "segments = [\n",
    "    (income_data < 1e5) & (house_data < 12),\n",
    "    (income_data < 1e5) & (house_data >= 12) & (house_data < 14),\n",
    "    (income_data < 1e5) & (house_data >= 14) ,\n",
    "    (income_data >= 1e5) & (income_data < 1e6) & (house_data < 12),\n",
    "    (income_data >= 1e5) & (income_data < 1e6) & (house_data >= 12) & (house_data < 14),\n",
    "    (income_data >= 1e5) & (income_data < 1e6) & (house_data >= 14),\n",
    "    (income_data >= 1e6) & (income_data < 1e7) & (house_data < 12),\n",
    "    (income_data >= 1e6) & (income_data < 1e7) & (house_data >= 12) & (house_data < 14),\n",
    "    (income_data >= 1e6) & (income_data < 1e7) & (house_data >= 14)\n",
    "]\n",
    "\n",
    "# Define ratios for 'x' to 'o' markers in each region\n",
    "ratios = [\n",
    "    (30, 146),  # red\n",
    "    (55, 128),  # blue\n",
    "    (85, 107),  # green\n",
    "    (400, 1241),  # orange\n",
    "    (800, 1190),  # purple\n",
    "    (1100, 572),  # yellow\n",
    "    (8000, 11178),  # cyan\n",
    "    (20000, 11168),  # magenta\n",
    "    (25000, 5266)   # brown\n",
    "]\n",
    "\n",
    "# Iterate over segments and adjust counts of 'x' and 'o' markers according to ratios\n",
    "for seg, ratio in zip(segments, ratios):\n",
    "    num_x, num_o = ratio\n",
    "    mask_x = (risk_flag_data == 0) & seg\n",
    "    mask_o = (risk_flag_data == 1) & seg\n",
    "    indices_x = mask_x[mask_x].sample(n=num_x, replace=True).index\n",
    "    indices_o = mask_o[mask_o].sample(n=num_o, replace=True).index\n",
    "    new_train_df.loc[indices_x, 'RISK_FLAG'] = 0\n",
    "    new_train_df.loc[indices_o, 'RISK_FLAG'] = 1\n",
    "\n",
    "# Verify the counts of 'x' and 'o' markers in each region\n",
    "for i, seg in enumerate(segments):\n",
    "    print(f\"Region {i}:\")\n",
    "    print(\"Count of 'x':\", sum((new_train_df['RISK_FLAG'] == 0) & seg))\n",
    "    print(\"Count of 'o':\", sum((new_train_df['RISK_FLAG'] == 1) & seg))# Assuming train_df['Income'], train_df['CURRENT_JOB_YRS'], and train_df['RISK_FLAG'] are your columns\n",
    "\n",
    "# Now, new_train_df contains the modified data with the specified ratios of 'x' to 'o' markers in different regions\n",
    "new_train_df = new_train_df.dropna(subset=['RISK_FLAG'])\n",
    "new_train_df = new_train_df.drop(columns=['Risk_Flag'])\n",
    "new_train_df = new_train_df.rename(columns={'RISK_FLAG': 'Risk_Flag'})\n",
    "new_train_df['Risk_Flag'] = new_train_df['Risk_Flag'].astype(int)"
   ]
  },
  {
   "cell_type": "code",
   "execution_count": 13,
   "id": "1f6568c4",
   "metadata": {},
   "outputs": [
    {
     "data": {
      "text/plain": [
       "(65657, 13)"
      ]
     },
     "execution_count": 13,
     "metadata": {},
     "output_type": "execute_result"
    }
   ],
   "source": [
    "new_train_df.shape"
   ]
  },
  {
   "cell_type": "code",
   "execution_count": 14,
   "id": "cd5722f1",
   "metadata": {},
   "outputs": [
    {
     "name": "stdout",
     "output_type": "stream",
     "text": [
      "Block: red, 'x' count: 29, 'o' count: 91\n",
      "Block: blue, 'x' count: 55, 'o' count: 82\n",
      "Block: green, 'x' count: 77, 'o' count: 69\n",
      "Block: orange, 'x' count: 388, 'o' count: 798\n",
      "Block: purple, 'x' count: 767, 'o' count: 745\n",
      "Block: yellow, 'x' count: 923, 'o' count: 357\n",
      "Block: cyan, 'x' count: 7611, 'o' count: 7085\n",
      "Block: magenta, 'x' count: 17692, 'o' count: 7083\n"
     ]
    },
    {
     "name": "stderr",
     "output_type": "stream",
     "text": [
      "No artists with labels found to put in legend.  Note that artists whose label start with an underscore are ignored when legend() is called with no argument.\n"
     ]
    },
    {
     "name": "stdout",
     "output_type": "stream",
     "text": [
      "Block: brown, 'x' count: 18507, 'o' count: 3298\n"
     ]
    },
    {
     "data": {
      "image/png": "[encoded data removed]",
      "text/plain": [
       "<Figure size 432x288 with 1 Axes>"
      ]
     },
     "metadata": {
      "needs_background": "light"
     },
     "output_type": "display_data"
    },
    {
     "data": {
      "text/plain": [
       "<Figure size 1440x864 with 0 Axes>"
      ]
     },
     "metadata": {},
     "output_type": "display_data"
    }
   ],
   "source": [
    "income_data = new_train_df['Income']\n",
    "house_data = new_train_df['CURRENT_HOUSE_YRS']\n",
    "risk_flag_data = new_train_df['Risk_Flag']\n",
    "\n",
    "# Define the segments based on the conditions you provided\n",
    "segments = [\n",
    "    (income_data < 1e5) & (house_data < 12),\n",
    "    (income_data < 1e5) & (house_data >= 12) & (house_data < 14),\n",
    "    (income_data < 1e5) & (house_data >= 14) ,\n",
    "    (income_data >= 1e5) & (income_data < 1e6) & (house_data < 12),\n",
    "    (income_data >= 1e5) & (income_data < 1e6) & (house_data >= 12) & (house_data < 14),\n",
    "    (income_data >= 1e5) & (income_data < 1e6) & (house_data >= 14),\n",
    "    (income_data >= 1e6) & (income_data < 1e7) & (house_data < 12),\n",
    "    (income_data >= 1e6) & (income_data < 1e7) & (house_data >= 12) & (house_data < 14),\n",
    "    (income_data >= 1e6) & (income_data < 1e7) & (house_data >= 14)\n",
    "]\n",
    "\n",
    "# Define colors for each segment\n",
    "colors = ['red', 'blue', 'green', 'orange', 'purple', 'yellow', 'cyan', 'magenta', 'brown']\n",
    "\n",
    "# Define markers for each RISK_FLAG category\n",
    "markers = ['x', 'o']  # Replaced 'tick' with 'o'\n",
    "\n",
    "# Plot each segment with a different color and marker based on RISK_FLAG\n",
    "for seg, color in zip(segments, colors):\n",
    "    for flag, marker in zip(range(2), markers):  # Iterate over RISK_FLAG categories (0 and 1)\n",
    "        data = seg & (risk_flag_data == flag)\n",
    "        if data.any():\n",
    "            if marker == 'o':  # Change the color for 'o' marker\n",
    "                plt.plot(income_data[data], house_data[data], marker=marker, markersize=2, linestyle='', color='black')\n",
    "            else:\n",
    "                plt.plot(income_data[data], house_data[data], marker=marker, markersize=2, linestyle='', color=color)\n",
    "    \n",
    "    # Print the number of 'x' and 'o' markers in the current block\n",
    "    num_x = sum((risk_flag_data[seg] == 0) & (income_data[seg] >= 0) & (house_data[seg] >= 0))\n",
    "    num_o = sum((risk_flag_data[seg] == 1) & (income_data[seg] >= 0) & (house_data[seg] >= 0))\n",
    "    print(f\"Block: {color}, 'x' count: {num_x}, 'o' count: {num_o}\")\n",
    "\n",
    "plt.xlabel('Income')\n",
    "plt.ylabel('Current Experience')\n",
    "plt.xscale('log')  # Set x-axis to logarithmic scale\n",
    "plt.yticks([10, 12, 14], ['10', '12', '14'])  # Set custom ticks and labels for y-axis\n",
    "plt.ylim(10, 16)     # Set y-axis range from 0 to 14\n",
    "plt.grid(True)     # Show grid\n",
    "plt.title('Plot of Income vs Current_House_Yrs')\n",
    "plt.legend()\n",
    "plt.figure(figsize=(20,12))\n",
    "plt.show()"
   ]
  },
  {
   "cell_type": "code",
   "execution_count": null,
   "id": "d9fd060f",
   "metadata": {},
   "outputs": [],
   "source": []
  }
 ],
 "metadata": {
  "kernelspec": {
   "display_name": "Python 3 (ipykernel)",
   "language": "python",
   "name": "python3"
  },
  "language_info": {
   "codemirror_mode": {
    "name": "ipython",
    "version": 3
   },
   "file_extension": ".py",
   "mimetype": "text/x-python",
   "name": "python",
   "nbconvert_exporter": "python",
   "pygments_lexer": "ipython3",
   "version": "3.9.12"
  }
 },
 "nbformat": 4,
 "nbformat_minor": 5
}
