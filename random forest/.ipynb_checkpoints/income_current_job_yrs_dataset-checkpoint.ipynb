{
 "cells": [
  {
   "cell_type": "code",
   "execution_count": 1,
   "id": "c660f95a",
   "metadata": {},
   "outputs": [],
   "source": [
    "import numpy as np\n",
    "import pandas as pd\n",
    "from matplotlib import pyplot as plt\n",
    "import seaborn as sns"
   ]
  },
  {
   "cell_type": "code",
   "execution_count": 2,
   "id": "9c1fc6f9",
   "metadata": {},
   "outputs": [],
   "source": [
    "train_df = pd.read_csv('D:/Desktop/me/IITG/IIT Guwahati sem 6/CS361/archive/Training Data.csv')"
   ]
  },
  {
   "cell_type": "code",
   "execution_count": 4,
   "id": "b58ed9e6",
   "metadata": {},
   "outputs": [
    {
     "data": {
      "text/plain": [
       "Index(['Id', 'Income', 'Age', 'Experience', 'Married/Single',\n",
       "       'House_Ownership', 'Car_Ownership', 'Profession', 'CITY', 'STATE',\n",
       "       'CURRENT_JOB_YRS', 'CURRENT_HOUSE_YRS', 'Risk_Flag'],\n",
       "      dtype='object')"
      ]
     },
     "execution_count": 4,
     "metadata": {},
     "output_type": "execute_result"
    }
   ],
   "source": [
    "train_df.columns"
   ]
  },
  {
   "cell_type": "code",
   "execution_count": 5,
   "id": "4057db79",
   "metadata": {},
   "outputs": [
    {
     "data": {
      "text/plain": [
       "(10310, 9999938)"
      ]
     },
     "execution_count": 5,
     "metadata": {},
     "output_type": "execute_result"
    }
   ],
   "source": [
    "min_value = train_df['Income'].min()\n",
    "max_value = train_df['Income'].max()\n",
    "min_value,max_value"
   ]
  },
  {
   "cell_type": "code",
   "execution_count": 7,
   "id": "c20cbe12",
   "metadata": {},
   "outputs": [
    {
     "data": {
      "text/plain": [
       "(0, 14)"
      ]
     },
     "execution_count": 7,
     "metadata": {},
     "output_type": "execute_result"
    }
   ],
   "source": [
    "min_value = train_df['CURRENT_JOB_YRS'].min()\n",
    "max_value = train_df['CURRENT_JOB_YRS'].max()\n",
    "min_value,max_value"
   ]
  },
  {
   "cell_type": "code",
   "execution_count": 76,
   "id": "18ba7c16",
   "metadata": {},
   "outputs": [
    {
     "name": "stdout",
     "output_type": "stream",
     "text": [
      "Block: red, 'x' count: 623, 'o' count: 136\n",
      "Block: blue, 'x' count: 845, 'o' count: 132\n",
      "Block: green, 'x' count: 470, 'o' count: 113\n",
      "Block: orange, 'x' count: 7017, 'o' count: 1101\n",
      "Block: purple, 'x' count: 7924, 'o' count: 1261\n",
      "Block: yellow, 'x' count: 4192, 'o' count: 641\n",
      "Block: cyan, 'x' count: 71972, 'o' count: 10655\n",
      "Block: magenta, 'x' count: 83526, 'o' count: 10825\n",
      "Block: brown, 'x' count: 44435, 'o' count: 6132\n"
     ]
    },
    {
     "name": "stderr",
     "output_type": "stream",
     "text": [
      "No artists with labels found to put in legend.  Note that artists whose label start with an underscore are ignored when legend() is called with no argument.\n"
     ]
    },
    {
     "data": {
      "image/png": "[encoded data removed]",
      "text/plain": [
       "<Figure size 432x288 with 1 Axes>"
      ]
     },
     "metadata": {
      "needs_background": "light"
     },
     "output_type": "display_data"
    },
    {
     "data": {
      "text/plain": [
       "<Figure size 1440x864 with 0 Axes>"
      ]
     },
     "metadata": {},
     "output_type": "display_data"
    }
   ],
   "source": [
    "import matplotlib.pyplot as plt\n",
    "\n",
    "# Assuming train_df['Income'], train_df['CURRENT_JOB_YRS'], and train_df['RISK_FLAG'] are your columns\n",
    "income_data = train_df['Income']\n",
    "job_years_data = train_df['CURRENT_JOB_YRS']\n",
    "risk_flag_data = train_df['Risk_Flag']\n",
    "\n",
    "# Define the segments based on the conditions you provided\n",
    "segments = [\n",
    "    (income_data < 1e5) & (job_years_data < 5),\n",
    "    (income_data < 1e5) & (job_years_data >= 5) & (job_years_data < 10),\n",
    "    (income_data < 1e5) & (job_years_data >= 10) & (job_years_data >= 10),\n",
    "    (income_data >= 1e5) & (income_data < 1e6) & (job_years_data < 5),\n",
    "    (income_data >= 1e5) & (income_data < 1e6) & (job_years_data >= 5) & (job_years_data < 10),\n",
    "    (income_data >= 1e5) & (income_data < 1e6) & (job_years_data >= 10),\n",
    "    (income_data >= 1e6) & (income_data < 1e7) & (job_years_data < 5),\n",
    "    (income_data >= 1e6) & (income_data < 1e7) & (job_years_data >= 5) & (job_years_data < 10),\n",
    "    (income_data >= 1e6) & (income_data < 1e7) & (job_years_data >= 10)\n",
    "]\n",
    "\n",
    "# Define colors for each segment\n",
    "colors = ['red', 'blue', 'green', 'orange', 'purple', 'yellow', 'cyan', 'magenta', 'brown']\n",
    "\n",
    "# Define markers for each RISK_FLAG category\n",
    "markers = ['x', 'o']  # Replaced 'tick' with 'o'\n",
    "\n",
    "# Plot each segment with a different color and marker based on RISK_FLAG\n",
    "for seg, color in zip(segments, colors):\n",
    "    for flag, marker in zip(range(2), markers):  # Iterate over RISK_FLAG categories (0 and 1)\n",
    "        data = seg & (risk_flag_data == flag)\n",
    "        if data.any():\n",
    "            if marker == 'o':  # Change the color for 'o' marker\n",
    "                plt.plot(income_data[data], job_years_data[data], marker=marker, markersize=2, linestyle='', color='black')\n",
    "            else:\n",
    "                plt.plot(income_data[data], job_years_data[data], marker=marker, markersize=2, linestyle='', color=color)\n",
    "    \n",
    "    # Print the number of 'x' and 'o' markers in the current block\n",
    "    num_x = sum((risk_flag_data[seg] == 0) & (income_data[seg] >= 0) & (job_years_data[seg] >= 0))\n",
    "    num_o = sum((risk_flag_data[seg] == 1) & (income_data[seg] >= 0) & (job_years_data[seg] >= 0))\n",
    "    print(f\"Block: {color}, 'x' count: {num_x}, 'o' count: {num_o}\")\n",
    "\n",
    "plt.xlabel('Income')\n",
    "plt.ylabel('Current Job Years')\n",
    "plt.xscale('log')  # Set x-axis to logarithmic scale\n",
    "plt.yticks([0, 5, 10], ['0', '5', '10'])  # Set custom ticks and labels for y-axis\n",
    "plt.ylim(0, 15)     # Set y-axis range from 0 to 14\n",
    "plt.grid(True)     # Show grid\n",
    "plt.title('Plot of Income vs Current Job Years')\n",
    "plt.legend()\n",
    "plt.figure(figsize=(20,12))\n",
    "plt.show()"
   ]
  },
  {
   "cell_type": "code",
   "execution_count": 79,
   "id": "8a3e9a9d",
   "metadata": {
    "scrolled": true
   },
   "outputs": [
    {
     "name": "stdout",
     "output_type": "stream",
     "text": [
      "Region 0:\n",
      "Count of 'x': 27\n",
      "Count of 'o': 94\n",
      "Region 1:\n",
      "Count of 'x': 40\n",
      "Count of 'o': 93\n",
      "Region 2:\n",
      "Count of 'x': 46\n",
      "Count of 'o': 113\n",
      "Region 3:\n",
      "Count of 'x': 113\n",
      "Count of 'o': 105\n",
      "Region 4:\n",
      "Count of 'x': 771\n",
      "Count of 'o': 803\n",
      "Region 5:\n",
      "Count of 'x': 899\n",
      "Count of 'o': 641\n",
      "Region 6:\n",
      "Count of 'x': 1268\n",
      "Count of 'o': 620\n",
      "Region 7:\n",
      "Count of 'x': 19115\n",
      "Count of 'o': 6012\n",
      "Region 8:\n",
      "Count of 'x': 10728\n",
      "Count of 'o': 3007\n"
     ]
    }
   ],
   "source": [
    "import pandas as pd\n",
    "\n",
    "# Initialize a new DataFrame to store the modified data\n",
    "new_train_df = train_df.copy()# Assuming train_df['Income'], train_df['CURRENT_JOB_YRS'], and train_df['RISK_FLAG'] are your columns\n",
    "income_data = new_train_df['Income']\n",
    "job_years_data = new_train_df['CURRENT_JOB_YRS']\n",
    "risk_flag_data = new_train_df['Risk_Flag']\n",
    "\n",
    "# Define the segments based on the conditions you provided\n",
    "segments = [\n",
    "    (income_data < 1e5) & (job_years_data < 5),\n",
    "    (income_data < 1e5) & (job_years_data >= 5) & (job_years_data < 10),\n",
    "    (income_data < 1e5) & (job_years_data >= 10),\n",
    "    (income_data >= 1e5) & (income_data < 1e6) & (job_years_data < 5),\n",
    "    (income_data >= 1e5) & (income_data < 1e6) & (job_years_data >= 5) & (job_years_data < 10),\n",
    "    (income_data >= 1e5) & (income_data < 1e6) & (job_years_data >= 10),\n",
    "    (income_data >= 1e6) & (income_data < 1e7) & (job_years_data < 5),\n",
    "    (income_data >= 1e6) & (income_data < 1e7) & (job_years_data >= 5) & (job_years_data < 10),\n",
    "    (income_data >= 1e6) & (income_data < 1e7) & (job_years_data >= 10)\n",
    "]\n",
    "\n",
    "# Define ratios for 'x' to 'o' markers in each region\n",
    "ratios = [\n",
    "    (27, 136),  # red\n",
    "    (40, 132),  # blue\n",
    "    (113, 113),  # green\n",
    "    (500, 1101),  # orange\n",
    "    (800, 1261),  # purple\n",
    "    (1282, 641), # yellow \n",
    "    (1000, 10655), # cyan\n",
    "    (21650, 8825),  # magenta\n",
    "    (12264, 4132)   # brown\n",
    "]\n",
    "\n",
    "# Iterate over segments and adjust counts of 'x' and 'o' markers according to ratios\n",
    "for seg, ratio in zip(segments, ratios):\n",
    "    num_x, num_o = ratio\n",
    "    mask_x = (risk_flag_data == 0) & seg\n",
    "    mask_o = (risk_flag_data == 1) & seg\n",
    "    indices_x = mask_x[mask_x].sample(n=num_x, replace=True).index\n",
    "    indices_o = mask_o[mask_o].sample(n=num_o, replace=True).index\n",
    "    new_train_df.loc[indices_x, 'RISK_FLAG'] = 0\n",
    "    new_train_df.loc[indices_o, 'RISK_FLAG'] = 1\n",
    "\n",
    "# Verify the counts of 'x' and 'o' markers in each region\n",
    "for i, seg in enumerate(segments):\n",
    "    print(f\"Region {i}:\")\n",
    "    print(\"Count of 'x':\", sum((new_train_df['RISK_FLAG'] == 0) & seg))\n",
    "    print(\"Count of 'o':\", sum((new_train_df['RISK_FLAG'] == 1) & seg))# Assuming train_df['Income'], train_df['CURRENT_JOB_YRS'], and train_df['RISK_FLAG'] are your columns\n",
    "\n",
    "# Now, new_train_df contains the modified data with the specified ratios of 'x' to 'o' markers in different regions\n",
    "new_train_df = new_train_df.dropna(subset=['RISK_FLAG'])\n",
    "new_train_df = new_train_df.drop(columns=['Risk_Flag'])\n",
    "new_train_df = new_train_df.rename(columns={'RISK_FLAG': 'Risk_Flag'})\n",
    "new_train_df['Risk_Flag'] = new_train_df['Risk_Flag'].astype(int)"
   ]
  },
  {
   "cell_type": "code",
   "execution_count": 80,
   "id": "0947d9a6",
   "metadata": {},
   "outputs": [
    {
     "data": {
      "text/plain": [
       "0         0\n",
       "3         1\n",
       "6         0\n",
       "12        0\n",
       "13        0\n",
       "         ..\n",
       "251984    0\n",
       "251991    0\n",
       "251993    1\n",
       "251994    0\n",
       "251996    0\n",
       "Name: Risk_Flag, Length: 44495, dtype: int32"
      ]
     },
     "execution_count": 80,
     "metadata": {},
     "output_type": "execute_result"
    }
   ],
   "source": [
    "new_train_df['Risk_Flag']"
   ]
  },
  {
   "cell_type": "code",
   "execution_count": 77,
   "id": "33e83000",
   "metadata": {},
   "outputs": [
    {
     "name": "stdout",
     "output_type": "stream",
     "text": [
      "Block: red, 'x' count: 27, 'o' count: 83\n",
      "Block: blue, 'x' count: 37, 'o' count: 80\n",
      "Block: green, 'x' count: 47, 'o' count: 113\n",
      "Block: orange, 'x' count: 111, 'o' count: 109\n",
      "Block: purple, 'x' count: 770, 'o' count: 810\n"
     ]
    },
    {
     "name": "stderr",
     "output_type": "stream",
     "text": [
      "No artists with labels found to put in legend.  Note that artists whose label start with an underscore are ignored when legend() is called with no argument.\n"
     ]
    },
    {
     "name": "stdout",
     "output_type": "stream",
     "text": [
      "Block: yellow, 'x' count: 896, 'o' count: 641\n",
      "Block: cyan, 'x' count: 1275, 'o' count: 625\n",
      "Block: magenta, 'x' count: 19089, 'o' count: 6059\n",
      "Block: brown, 'x' count: 10717, 'o' count: 3005\n"
     ]
    },
    {
     "data": {
      "image/png": "[encoded data removed]",
      "text/plain": [
       "<Figure size 432x288 with 1 Axes>"
      ]
     },
     "metadata": {
      "needs_background": "light"
     },
     "output_type": "display_data"
    },
    {
     "data": {
      "text/plain": [
       "<Figure size 1440x864 with 0 Axes>"
      ]
     },
     "metadata": {},
     "output_type": "display_data"
    }
   ],
   "source": [
    "import matplotlib.pyplot as plt\n",
    "\n",
    "# Assuming train_df['Income'], train_df['CURRENT_JOB_YRS'], and train_df['RISK_FLAG'] are your columns\n",
    "income_data = new_train_df['Income']\n",
    "job_years_data = new_train_df['CURRENT_JOB_YRS']\n",
    "risk_flag_data = new_train_df['Risk_Flag']\n",
    "\n",
    "# Define the segments based on the conditions you provided\n",
    "segments = [\n",
    "    (income_data < 1e5) & (job_years_data < 5),\n",
    "    (income_data < 1e5) & (job_years_data >= 5) & (job_years_data < 10),\n",
    "    (income_data < 1e5) & (job_years_data >= 10) & (job_years_data >= 10),\n",
    "    (income_data >= 1e5) & (income_data < 1e6) & (job_years_data < 5),\n",
    "    (income_data >= 1e5) & (income_data < 1e6) & (job_years_data >= 5) & (job_years_data < 10),\n",
    "    (income_data >= 1e5) & (income_data < 1e6) & (job_years_data >= 10),\n",
    "    (income_data >= 1e6) & (income_data < 1e7) & (job_years_data < 5),\n",
    "    (income_data >= 1e6) & (income_data < 1e7) & (job_years_data >= 5) & (job_years_data < 10),\n",
    "    (income_data >= 1e6) & (income_data < 1e7) & (job_years_data >= 10)\n",
    "]\n",
    "\n",
    "# Define colors for each segment\n",
    "colors = ['red', 'blue', 'green', 'orange', 'purple', 'yellow', 'cyan', 'magenta', 'brown']\n",
    "\n",
    "# Define markers for each RISK_FLAG category\n",
    "markers = ['x', 'o']  # Replaced 'tick' with 'o'\n",
    "\n",
    "# Plot each segment with a different color and marker based on RISK_FLAG\n",
    "for seg, color in zip(segments, colors):\n",
    "    for flag, marker in zip(range(2), markers):  # Iterate over RISK_FLAG categories (0 and 1)\n",
    "        data = seg & (risk_flag_data == flag)\n",
    "        if data.any():\n",
    "            if marker == 'o':  # Change the color for 'o' marker\n",
    "                plt.plot(income_data[data], job_years_data[data], marker=marker, markersize=2, linestyle='', color='black')\n",
    "            else:\n",
    "                plt.plot(income_data[data], job_years_data[data], marker=marker, markersize=2, linestyle='', color=color)\n",
    "    \n",
    "    # Print the number of 'x' and 'o' markers in the current block\n",
    "    num_x = sum((risk_flag_data[seg] == 0) & (income_data[seg] >= 0) & (job_years_data[seg] >= 0))\n",
    "    num_o = sum((risk_flag_data[seg] == 1) & (income_data[seg] >= 0) & (job_years_data[seg] >= 0))\n",
    "    print(f\"Block: {color}, 'x' count: {num_x}, 'o' count: {num_o}\")\n",
    "\n",
    "plt.xlabel('Income')\n",
    "plt.ylabel('Current Job Years')\n",
    "plt.xscale('log')  # Set x-axis to logarithmic scale\n",
    "plt.yticks([0, 5, 10], ['0', '5', '10'])  # Set custom ticks and labels for y-axis\n",
    "plt.ylim(0, 15)     # Set y-axis range from 0 to 14\n",
    "plt.grid(True)     # Show grid\n",
    "plt.title('Plot of Income vs Current Job Years')\n",
    "plt.legend()\n",
    "plt.figure(figsize=(20,12))\n",
    "plt.show()"
   ]
  }
 ],
 "metadata": {
  "kernelspec": {
   "display_name": "Python 3 (ipykernel)",
   "language": "python",
   "name": "python3"
  },
  "language_info": {
   "codemirror_mode": {
    "name": "ipython",
    "version": 3
   },
   "file_extension": ".py",
   "mimetype": "text/x-python",
   "name": "python",
   "nbconvert_exporter": "python",
   "pygments_lexer": "ipython3",
   "version": "3.9.12"
  }
 },
 "nbformat": 4,
 "nbformat_minor": 5
}
