{
 "cells": [
  {
   "cell_type": "code",
   "execution_count": 6,
   "id": "5e1bf46e",
   "metadata": {},
   "outputs": [],
   "source": [
    "import csv\n",
    "import pandas as pd"
   ]
  },
  {
   "cell_type": "code",
   "execution_count": 7,
   "id": "69e8cb35",
   "metadata": {},
   "outputs": [
    {
     "name": "stdout",
     "output_type": "stream",
     "text": [
      "is data clean :-  True\n"
     ]
    }
   ],
   "source": [
    "data = pd.read_csv('Test Data.csv');\n",
    "print(\"is data clean :- \" , data.notnull().values.all())  # data is clean\n",
    "\n",
    "input_data1 = data.copy()\n",
    "input_data1.drop(['CITY','STATE'],axis = 1 ,inplace = True)"
   ]
  },
  {
   "cell_type": "markdown",
   "id": "826e7e67",
   "metadata": {},
   "source": [
    "## For married/single"
   ]
  },
  {
   "cell_type": "code",
   "execution_count": 8,
   "id": "0db1e00f",
   "metadata": {},
   "outputs": [
    {
     "name": "stdout",
     "output_type": "stream",
     "text": [
      "0    25170\n",
      "1     2830\n",
      "Name: Married/Single, dtype: int64\n"
     ]
    }
   ],
   "source": [
    "input_data1['Married/Single'] = input_data1['Married/Single'].apply(lambda x : 1 if  x == 'married' else 0 )\n",
    "print(input_data1['Married/Single'].value_counts())"
   ]
  },
  {
   "cell_type": "markdown",
   "id": "a754d336",
   "metadata": {},
   "source": [
    "## For House Ownership"
   ]
  },
  {
   "cell_type": "code",
   "execution_count": 9,
   "id": "7cce3c08",
   "metadata": {},
   "outputs": [
    {
     "name": "stdout",
     "output_type": "stream",
     "text": [
      "rented          25805\n",
      "owned            1430\n",
      "norent_noown      765\n",
      "Name: House_Ownership, dtype: int64\n",
      "0    25805\n",
      "2     1430\n",
      "1      765\n",
      "Name: House_Ownership, dtype: int64\n"
     ]
    }
   ],
   "source": [
    "print(input_data1['House_Ownership'].value_counts())\n",
    "ownership_mapping = {'rented': 0, 'norent_noown': 1, 'owned': 2}\n",
    "input_data1['House_Ownership'] = input_data1['House_Ownership'].map(ownership_mapping)\n",
    "print(input_data1['House_Ownership'].value_counts())"
   ]
  },
  {
   "cell_type": "markdown",
   "id": "b3e3d29d",
   "metadata": {},
   "source": [
    "## car_ownership"
   ]
  },
  {
   "cell_type": "code",
   "execution_count": 10,
   "id": "1f70085f",
   "metadata": {},
   "outputs": [
    {
     "name": "stdout",
     "output_type": "stream",
     "text": [
      "no     19625\n",
      "yes     8375\n",
      "Name: Car_Ownership, dtype: int64\n",
      "0    19625\n",
      "1     8375\n",
      "Name: Car_Ownership, dtype: int64\n"
     ]
    }
   ],
   "source": [
    "print(input_data1['Car_Ownership'].value_counts())\n",
    "input_data1['Car_Ownership'] = input_data1['Car_Ownership'].apply(lambda x : 1 if  x == 'yes' else 0 )\n",
    "print(input_data1['Car_Ownership'].value_counts())"
   ]
  },
  {
   "cell_type": "markdown",
   "id": "277410a4",
   "metadata": {},
   "source": [
    "## Profession"
   ]
  },
  {
   "cell_type": "code",
   "execution_count": 11,
   "id": "a340a8e1",
   "metadata": {},
   "outputs": [
    {
     "name": "stdout",
     "output_type": "stream",
     "text": [
      "Computer hardware engineer    672\n",
      "Statistician                  672\n",
      "Physician                     630\n",
      "Mechanical engineer           621\n",
      "Technical writer              616\n",
      "Psychologist                  614\n",
      "Web designer                  607\n",
      "Comedian                      598\n",
      "Hotel Manager                 595\n",
      "Flight attendant              579\n",
      "Biomedical Engineer           578\n",
      "Computer operator             576\n",
      "Magistrate                    575\n",
      "Air traffic controller        574\n",
      "Drafter                       573\n",
      "Financial Analyst             572\n",
      "Industrial Engineer           570\n",
      "Artist                        567\n",
      "Politician                    566\n",
      "Graphic Designer              565\n",
      "Fashion Designer              565\n",
      "Microbiologist                564\n",
      "Chemical engineer             555\n",
      "Consultant                    555\n",
      "Secretary                     550\n",
      "Technology specialist         549\n",
      "Aviator                       546\n",
      "Librarian                     540\n",
      "Firefighter                   539\n",
      "Dentist                       538\n",
      "Technician                    534\n",
      "Scientist                     533\n",
      "Software Developer            529\n",
      "Chartered Accountant          528\n",
      "Analyst                       523\n",
      "Petroleum Engineer            520\n",
      "Surgeon                       520\n",
      "Designer                      518\n",
      "Economist                     517\n",
      "Police officer                516\n",
      "Surveyor                      515\n",
      "Lawyer                        510\n",
      "Design Engineer               509\n",
      "Architect                     509\n",
      "Army officer                  501\n",
      "Geologist                     495\n",
      "Civil servant                 490\n",
      "Chef                          468\n",
      "Engineer                      468\n",
      "Civil engineer                461\n",
      "Official                      415\n",
      "Name: Profession, dtype: int64\n",
      "51\n",
      "{'Police officer': 0, 'Flight attendant': 1, 'Drafter': 2, 'Official': 3, 'Civil engineer': 4, 'Magistrate': 5, 'Physician': 6, 'Engineer': 7, 'Chef': 8, 'Design Engineer': 9, 'Geologist': 10, 'Software Developer': 11, 'Web designer': 12, 'Analyst': 13, 'Graphic Designer': 14, 'Politician': 15, 'Economist': 16, 'Technical writer': 17, 'Civil servant': 18, 'Dentist': 19, 'Air traffic controller': 20, 'Technician': 21, 'Biomedical Engineer': 22, 'Technology specialist': 23, 'Computer hardware engineer': 24, 'Hotel Manager': 25, 'Chartered Accountant': 26, 'Architect': 27, 'Librarian': 28, 'Statistician': 29, 'Microbiologist': 30, 'Firefighter': 31, 'Industrial Engineer': 32, 'Fashion Designer': 33, 'Aviator': 34, 'Army officer': 35, 'Secretary': 36, 'Surveyor': 37, 'Computer operator': 38, 'Lawyer': 39, 'Consultant': 40, 'Financial Analyst': 41, 'Artist': 42, 'Mechanical engineer': 43, 'Chemical engineer': 44, 'Comedian': 45, 'Surgeon': 46, 'Scientist': 47, 'Designer': 48, 'Psychologist': 49, 'Petroleum Engineer': 50}\n",
      "24    672\n",
      "29    672\n",
      "6     630\n",
      "43    621\n",
      "17    616\n",
      "49    614\n",
      "12    607\n",
      "45    598\n",
      "25    595\n",
      "1     579\n",
      "22    578\n",
      "38    576\n",
      "5     575\n",
      "20    574\n",
      "2     573\n",
      "41    572\n",
      "32    570\n",
      "42    567\n",
      "15    566\n",
      "14    565\n",
      "33    565\n",
      "30    564\n",
      "44    555\n",
      "40    555\n",
      "36    550\n",
      "23    549\n",
      "34    546\n",
      "28    540\n",
      "31    539\n",
      "19    538\n",
      "21    534\n",
      "47    533\n",
      "11    529\n",
      "26    528\n",
      "13    523\n",
      "50    520\n",
      "46    520\n",
      "48    518\n",
      "16    517\n",
      "0     516\n",
      "37    515\n",
      "39    510\n",
      "9     509\n",
      "27    509\n",
      "35    501\n",
      "10    495\n",
      "18    490\n",
      "8     468\n",
      "7     468\n",
      "4     461\n",
      "3     415\n",
      "Name: Profession_Encoded, dtype: int64\n"
     ]
    }
   ],
   "source": [
    "print(input_data1['Profession'].value_counts())\n",
    "print(input_data1['Profession'].nunique())\n",
    "profession_encoding = {}\n",
    "\n",
    "# Read the CSV file and populate the dictionary\n",
    "with open('profession_rank.csv', 'r', newline='') as file:\n",
    "    reader = csv.DictReader(file)\n",
    "    for row in reader:\n",
    "        profession_encoding[row['Profession']] = int(row['Rank'])\n",
    "\n",
    "# Now profession_encoding dictionary contains profession and its rank mappings\n",
    "print(profession_encoding)  # Example usage\n",
    "\n",
    "# Apply the mapping to create a new column 'Profession_Encoded'\n",
    "input_data1['Profession_Encoded'] = input_data1['Profession'].map(profession_encoding)\n",
    "print(input_data1['Profession_Encoded'].value_counts() )"
   ]
  },
  {
   "cell_type": "code",
   "execution_count": 12,
   "id": "dae8523f",
   "metadata": {},
   "outputs": [
    {
     "name": "stdout",
     "output_type": "stream",
     "text": [
      "          ID   Income  Age  Experience  Married/Single  House_Ownership  \\\n",
      "0          1  7393090   59          19               0                0   \n",
      "1          2  1215004   25           5               0                0   \n",
      "2          3  8901342   50          12               0                0   \n",
      "3          4  1944421   49           9               1                0   \n",
      "4          5    13429   25          18               0                0   \n",
      "...      ...      ...  ...         ...             ...              ...   \n",
      "27995  27996  9955481   57          13               0                0   \n",
      "27996  27997  2917765   47           9               0                0   \n",
      "27997  27998  8082415   24           5               0                0   \n",
      "27998  27999  9474180   51          13               0                0   \n",
      "27999  28000  9250350   42           9               0                0   \n",
      "\n",
      "       Car_Ownership  CURRENT_JOB_YRS  CURRENT_HOUSE_YRS  Profession_Encoded  \n",
      "0                  0                4                 13                  10  \n",
      "1                  0                5                 10                  31  \n",
      "2                  0                9                 14                  39  \n",
      "3                  1                3                 12                  13  \n",
      "4                  1               13                 11                  45  \n",
      "...              ...              ...                ...                 ...  \n",
      "27995              0                5                 10                  29  \n",
      "27996              0                9                 14                  17  \n",
      "27997              0                4                 13                  39  \n",
      "27998              1               13                 14                  26  \n",
      "27999              0                4                 10                   8  \n",
      "\n",
      "[28000 rows x 10 columns]\n"
     ]
    }
   ],
   "source": [
    "# features\n",
    "input_data1_final = input_data1.copy()\n",
    "input_data1_final.drop(['Profession'],axis = 1,inplace = True)\n",
    "print(input_data1_final)"
   ]
  },
  {
   "cell_type": "code",
   "execution_count": 13,
   "id": "5a0babf6",
   "metadata": {},
   "outputs": [],
   "source": [
    "# target variable\n",
    "output_data1 = pd.read_csv('Sample Prediction Dataset.csv')\n",
    "# change name of column according to training data\n",
    "output_data1.rename(columns = {'id' : 'Id' , 'risk_flag':'Risk_Flag' },inplace = True)"
   ]
  },
  {
   "cell_type": "code",
   "execution_count": 14,
   "id": "584b848a",
   "metadata": {},
   "outputs": [
    {
     "name": "stdout",
     "output_type": "stream",
     "text": [
      "(28000, 9)\n",
      "(28000, 1)\n"
     ]
    }
   ],
   "source": [
    "# drop id column\n",
    "train_X = input_data1_final.copy()\n",
    "train_X.drop(['ID'],axis = 1 , inplace = True)\n",
    "train_Y = output_data1.copy()\n",
    "train_Y.drop(['Id'],axis = 1 , inplace = True)\n",
    "print(train_X.shape)\n",
    "print(train_Y.shape)"
   ]
  },
  {
   "cell_type": "code",
   "execution_count": 15,
   "id": "c703566f",
   "metadata": {},
   "outputs": [],
   "source": [
    "# save to a csv , this is our test data\n",
    "train_X.to_csv('test_x.csv',sep=',' , index =False , encoding = 'utf-8')\n",
    "train_Y.to_csv('test_y.csv', sep=',', index=False, encoding='utf-8')"
   ]
  }
 ],
 "metadata": {
  "kernelspec": {
   "display_name": "Python 3 (ipykernel)",
   "language": "python",
   "name": "python3"
  },
  "language_info": {
   "codemirror_mode": {
    "name": "ipython",
    "version": 3
   },
   "file_extension": ".py",
   "mimetype": "text/x-python",
   "name": "python",
   "nbconvert_exporter": "python",
   "pygments_lexer": "ipython3",
   "version": "3.9.12"
  }
 },
 "nbformat": 4,
 "nbformat_minor": 5
}
