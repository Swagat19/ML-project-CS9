{
 "cells": [
  {
   "cell_type": "code",
   "execution_count": 1,
   "id": "8e21415b",
   "metadata": {},
   "outputs": [],
   "source": [
    "import numpy as np\n",
    "import pandas as pd\n",
    "from matplotlib import pyplot as plt\n",
    "import seaborn as sns"
   ]
  },
  {
   "cell_type": "code",
   "execution_count": 2,
   "id": "5af15ae4",
   "metadata": {},
   "outputs": [],
   "source": [
    "train_df = pd.read_csv('D:/Desktop/me/IITG/IIT Guwahati sem 6/CS361/archive/Training Data.csv')"
   ]
  },
  {
   "cell_type": "code",
   "execution_count": 4,
   "id": "5b1552d1",
   "metadata": {},
   "outputs": [
    {
     "data": {
      "text/plain": [
       "Index(['Id', 'Income', 'Age', 'Experience', 'Married/Single',\n",
       "       'House_Ownership', 'Car_Ownership', 'Profession', 'CITY', 'STATE',\n",
       "       'CURRENT_JOB_YRS', 'CURRENT_HOUSE_YRS', 'Risk_Flag'],\n",
       "      dtype='object')"
      ]
     },
     "execution_count": 4,
     "metadata": {},
     "output_type": "execute_result"
    }
   ],
   "source": [
    "train_df.columns"
   ]
  },
  {
   "cell_type": "code",
   "execution_count": 5,
   "id": "02b3e45e",
   "metadata": {},
   "outputs": [
    {
     "data": {
      "text/plain": [
       "(10310, 9999938)"
      ]
     },
     "execution_count": 5,
     "metadata": {},
     "output_type": "execute_result"
    }
   ],
   "source": [
    "min_value = train_df['Income'].min()\n",
    "max_value = train_df['Income'].max()\n",
    "min_value,max_value"
   ]
  },
  {
   "cell_type": "code",
   "execution_count": 7,
   "id": "0226ca1e",
   "metadata": {},
   "outputs": [
    {
     "data": {
      "text/plain": [
       "(0, 14)"
      ]
     },
     "execution_count": 7,
     "metadata": {},
     "output_type": "execute_result"
    }
   ],
   "source": [
    "min_value = train_df['CURRENT_JOB_YRS'].min()\n",
    "max_value = train_df['CURRENT_JOB_YRS'].max()\n",
    "min_value,max_value"
   ]
  },
  {
   "cell_type": "code",
   "execution_count": 76,
   "id": "32648851",
   "metadata": {},
   "outputs": [
    {
     "name": "stdout",
     "output_type": "stream",
     "text": [
      "Block: red, 'x' count: 623, 'o' count: 136\n",
      "Block: blue, 'x' count: 845, 'o' count: 132\n",
      "Block: green, 'x' count: 470, 'o' count: 113\n",
      "Block: orange, 'x' count: 7017, 'o' count: 1101\n",
      "Block: purple, 'x' count: 7924, 'o' count: 1261\n",
      "Block: yellow, 'x' count: 4192, 'o' count: 641\n",
      "Block: cyan, 'x' count: 71972, 'o' count: 10655\n",
      "Block: magenta, 'x' count: 83526, 'o' count: 10825\n",
      "Block: brown, 'x' count: 44435, 'o' count: 6132\n"
     ]
    },
    {
     "name": "stderr",
     "output_type": "stream",
     "text": [
      "No artists with labels found to put in legend.  Note that artists whose label start with an underscore are ignored when legend() is called with no argument.\n"
     ]
    },
    {
     "data": {
      "image/png": "[encoded data removed]",
      "text/plain": [
       "<Figure size 432x288 with 1 Axes>"
      ]
     },
     "metadata": {
      "needs_background": "light"
     },
     "output_type": "display_data"
    },
    {
     "data": {
      "text/plain": [
       "<Figure size 1440x864 with 0 Axes>"
      ]
     },
     "metadata": {},
     "output_type": "display_data"
    }
   ],
   "source": [
    "import matplotlib.pyplot as plt\n",
    "\n",
    "# Assuming train_df['Income'], train_df['CURRENT_JOB_YRS'], and train_df['RISK_FLAG'] are your columns\n",
    "income_data = train_df['Income']\n",
    "job_years_data = train_df['CURRENT_JOB_YRS']\n",
    "risk_flag_data = train_df['Risk_Flag']\n",
    "\n",
    "# Define the segments based on the conditions you provided\n",
    "segments = [\n",
    "    (income_data < 1e5) & (job_years_data < 5),\n",
    "    (income_data < 1e5) & (job_years_data >= 5) & (job_years_data < 10),\n",
    "    (income_data < 1e5) & (job_years_data >= 10) & (job_years_data >= 10),\n",
    "    (income_data >= 1e5) & (income_data < 1e6) & (job_years_data < 5),\n",
    "    (income_data >= 1e5) & (income_data < 1e6) & (job_years_data >= 5) & (job_years_data < 10),\n",
    "    (income_data >= 1e5) & (income_data < 1e6) & (job_years_data >= 10),\n",
    "    (income_data >= 1e6) & (income_data < 1e7) & (job_years_data < 5),\n",
    "    (income_data >= 1e6) & (income_data < 1e7) & (job_years_data >= 5) & (job_years_data < 10),\n",
    "    (income_data >= 1e6) & (income_data < 1e7) & (job_years_data >= 10)\n",
    "]\n",
    "\n",
    "# Define colors for each segment\n",
    "colors = ['red', 'blue', 'green', 'orange', 'purple', 'yellow', 'cyan', 'magenta', 'brown']\n",
    "\n",
    "# Define markers for each RISK_FLAG category\n",
    "markers = ['x', 'o']  # Replaced 'tick' with 'o'\n",
    "\n",
    "# Plot each segment with a different color and marker based on RISK_FLAG\n",
    "for seg, color in zip(segments, colors):\n",
    "    for flag, marker in zip(range(2), markers):  # Iterate over RISK_FLAG categories (0 and 1)\n",
    "        data = seg & (risk_flag_data == flag)\n",
    "        if data.any():\n",
    "            if marker == 'o':  # Change the color for 'o' marker\n",
    "                plt.plot(income_data[data], job_years_data[data], marker=marker, markersize=2, linestyle='', color='black')\n",
    "            else:\n",
    "                plt.plot(income_data[data], job_years_data[data], marker=marker, markersize=2, linestyle='', color=color)\n",
    "    \n",
    "    # Print the number of 'x' and 'o' markers in the current block\n",
    "    num_x = sum((risk_flag_data[seg] == 0) & (income_data[seg] >= 0) & (job_years_data[seg] >= 0))\n",
    "    num_o = sum((risk_flag_data[seg] == 1) & (income_data[seg] >= 0) & (job_years_data[seg] >= 0))\n",
    "    print(f\"Block: {color}, 'x' count: {num_x}, 'o' count: {num_o}\")\n",
    "\n",
    "plt.xlabel('Income')\n",
    "plt.ylabel('Current Job Years')\n",
    "plt.xscale('log')  # Set x-axis to logarithmic scale\n",
    "plt.yticks([0, 5, 10], ['0', '5', '10'])  # Set custom ticks and labels for y-axis\n",
    "plt.ylim(0, 15)     # Set y-axis range from 0 to 14\n",
    "plt.grid(True)     # Show grid\n",
    "plt.title('Plot of Income vs Current Job Years')\n",
    "plt.legend()\n",
    "plt.figure(figsize=(20,12))\n",
    "plt.show()"
   ]
  },
  {
   "cell_type": "code",
   "execution_count": 87,
   "id": "0fe6c82e",
   "metadata": {
    "scrolled": true
   },
   "outputs": [
    {
     "name": "stdout",
     "output_type": "stream",
     "text": [
      "Region 0:\n",
      "Count of 'x': 27\n",
      "Count of 'o': 82\n",
      "Region 1:\n",
      "Count of 'x': 39\n",
      "Count of 'o': 80\n",
      "Region 2:\n",
      "Count of 'x': 68\n",
      "Count of 'o': 72\n",
      "Region 3:\n",
      "Count of 'x': 487\n",
      "Count of 'o': 689\n",
      "Region 4:\n",
      "Count of 'x': 756\n",
      "Count of 'o': 806\n",
      "Region 5:\n",
      "Count of 'x': 1115\n",
      "Count of 'o': 403\n",
      "Region 6:\n",
      "Count of 'x': 6956\n",
      "Count of 'o': 6779\n",
      "Region 7:\n",
      "Count of 'x': 19107\n",
      "Count of 'o': 5991\n",
      "Region 8:\n",
      "Count of 'x': 15740\n",
      "Count of 'o': 2971\n"
     ]
    }
   ],
   "source": [
    "import pandas as pd\n",
    "\n",
    "# Initialize a new DataFrame to store the modified data\n",
    "new_train_df = train_df.copy()# Assuming train_df['Income'], train_df['CURRENT_JOB_YRS'], and train_df['RISK_FLAG'] are your columns\n",
    "income_data = new_train_df['Income']\n",
    "job_years_data = new_train_df['CURRENT_JOB_YRS']\n",
    "risk_flag_data = new_train_df['Risk_Flag']\n",
    "\n",
    "# Define the segments based on the conditions you provided\n",
    "segments = [\n",
    "    (income_data < 1e5) & (job_years_data < 5),\n",
    "    (income_data < 1e5) & (job_years_data >= 5) & (job_years_data < 10),\n",
    "    (income_data < 1e5) & (job_years_data >= 10),\n",
    "    (income_data >= 1e5) & (income_data < 1e6) & (job_years_data < 5),\n",
    "    (income_data >= 1e5) & (income_data < 1e6) & (job_years_data >= 5) & (job_years_data < 10),\n",
    "    (income_data >= 1e5) & (income_data < 1e6) & (job_years_data >= 10),\n",
    "    (income_data >= 1e6) & (income_data < 1e7) & (job_years_data < 5),\n",
    "    (income_data >= 1e6) & (income_data < 1e7) & (job_years_data >= 5) & (job_years_data < 10),\n",
    "    (income_data >= 1e6) & (income_data < 1e7) & (job_years_data >= 10)\n",
    "]\n",
    "\n",
    "# Define ratios for 'x' to 'o' markers in each region\n",
    "ratios = [\n",
    "    (27, 136),  # red\n",
    "    (40, 132),  # blue\n",
    "    (80, 113),  # green\n",
    "    (500, 1101),  # orange\n",
    "    (800, 1261),  # purple\n",
    "    (1282, 641), # yellow \n",
    "    (7300, 10655), # cyan\n",
    "    (21650, 8825),  # magenta\n",
    "    (19264, 4132)   # brown\n",
    "]\n",
    "\n",
    "# Iterate over segments and adjust counts of 'x' and 'o' markers according to ratios\n",
    "for seg, ratio in zip(segments, ratios):\n",
    "    num_x, num_o = ratio\n",
    "    mask_x = (risk_flag_data == 0) & seg\n",
    "    mask_o = (risk_flag_data == 1) & seg\n",
    "    indices_x = mask_x[mask_x].sample(n=num_x, replace=True).index\n",
    "    indices_o = mask_o[mask_o].sample(n=num_o, replace=True).index\n",
    "    new_train_df.loc[indices_x, 'RISK_FLAG'] = 0\n",
    "    new_train_df.loc[indices_o, 'RISK_FLAG'] = 1\n",
    "\n",
    "# Verify the counts of 'x' and 'o' markers in each region\n",
    "for i, seg in enumerate(segments):\n",
    "    print(f\"Region {i}:\")\n",
    "    print(\"Count of 'x':\", sum((new_train_df['RISK_FLAG'] == 0) & seg))\n",
    "    print(\"Count of 'o':\", sum((new_train_df['RISK_FLAG'] == 1) & seg))# Assuming train_df['Income'], train_df['CURRENT_JOB_YRS'], and train_df['RISK_FLAG'] are your columns\n",
    "\n",
    "# Now, new_train_df contains the modified data with the specified ratios of 'x' to 'o' markers in different regions\n",
    "new_train_df = new_train_df.dropna(subset=['RISK_FLAG'])\n",
    "new_train_df = new_train_df.drop(columns=['Risk_Flag'])\n",
    "new_train_df = new_train_df.rename(columns={'RISK_FLAG': 'Risk_Flag'})\n",
    "new_train_df['Risk_Flag'] = new_train_df['Risk_Flag'].astype(int)"
   ]
  },
  {
   "cell_type": "code",
   "execution_count": 88,
   "id": "b91d0b15",
   "metadata": {},
   "outputs": [
    {
     "data": {
      "text/plain": [
       "3         1\n",
       "6         0\n",
       "8         0\n",
       "18        0\n",
       "22        0\n",
       "         ..\n",
       "251978    0\n",
       "251982    1\n",
       "251989    0\n",
       "251993    1\n",
       "251995    0\n",
       "Name: Risk_Flag, Length: 62168, dtype: int32"
      ]
     },
     "execution_count": 88,
     "metadata": {},
     "output_type": "execute_result"
    }
   ],
   "source": [
    "new_train_df['Risk_Flag']"
   ]
  },
  {
   "cell_type": "code",
   "execution_count": 89,
   "id": "2ec67c08",
   "metadata": {},
   "outputs": [
    {
     "name": "stdout",
     "output_type": "stream",
     "text": [
      "Block: red, 'x' count: 27, 'o' count: 82\n",
      "Block: blue, 'x' count: 39, 'o' count: 80\n",
      "Block: green, 'x' count: 68, 'o' count: 72\n",
      "Block: orange, 'x' count: 487, 'o' count: 689\n",
      "Block: purple, 'x' count: 756, 'o' count: 806\n",
      "Block: yellow, 'x' count: 1115, 'o' count: 403\n",
      "Block: cyan, 'x' count: 6956, 'o' count: 6779\n",
      "Block: magenta, 'x' count: 19107, 'o' count: 5991\n"
     ]
    },
    {
     "name": "stderr",
     "output_type": "stream",
     "text": [
      "No artists with labels found to put in legend.  Note that artists whose label start with an underscore are ignored when legend() is called with no argument.\n"
     ]
    },
    {
     "name": "stdout",
     "output_type": "stream",
     "text": [
      "Block: brown, 'x' count: 15740, 'o' count: 2971\n"
     ]
    },
    {
     "data": {
      "image/png": "[encoded data removed]",
      "text/plain": [
       "<Figure size 432x288 with 1 Axes>"
      ]
     },
     "metadata": {
      "needs_background": "light"
     },
     "output_type": "display_data"
    },
    {
     "data": {
      "text/plain": [
       "<Figure size 1440x864 with 0 Axes>"
      ]
     },
     "metadata": {},
     "output_type": "display_data"
    }
   ],
   "source": [
    "import matplotlib.pyplot as plt\n",
    "\n",
    "# Assuming train_df['Income'], train_df['CURRENT_JOB_YRS'], and train_df['RISK_FLAG'] are your columns\n",
    "income_data = new_train_df['Income']\n",
    "job_years_data = new_train_df['CURRENT_JOB_YRS']\n",
    "risk_flag_data = new_train_df['Risk_Flag']\n",
    "\n",
    "# Define the segments based on the conditions you provided\n",
    "segments = [\n",
    "    (income_data < 1e5) & (job_years_data < 5),\n",
    "    (income_data < 1e5) & (job_years_data >= 5) & (job_years_data < 10),\n",
    "    (income_data < 1e5) & (job_years_data >= 10) & (job_years_data >= 10),\n",
    "    (income_data >= 1e5) & (income_data < 1e6) & (job_years_data < 5),\n",
    "    (income_data >= 1e5) & (income_data < 1e6) & (job_years_data >= 5) & (job_years_data < 10),\n",
    "    (income_data >= 1e5) & (income_data < 1e6) & (job_years_data >= 10),\n",
    "    (income_data >= 1e6) & (income_data < 1e7) & (job_years_data < 5),\n",
    "    (income_data >= 1e6) & (income_data < 1e7) & (job_years_data >= 5) & (job_years_data < 10),\n",
    "    (income_data >= 1e6) & (income_data < 1e7) & (job_years_data >= 10)\n",
    "]\n",
    "\n",
    "# Define colors for each segment\n",
    "colors = ['red', 'blue', 'green', 'orange', 'purple', 'yellow', 'cyan', 'magenta', 'brown']\n",
    "\n",
    "# Define markers for each RISK_FLAG category\n",
    "markers = ['x', 'o']  # Replaced 'tick' with 'o'\n",
    "\n",
    "# Plot each segment with a different color and marker based on RISK_FLAG\n",
    "for seg, color in zip(segments, colors):\n",
    "    for flag, marker in zip(range(2), markers):  # Iterate over RISK_FLAG categories (0 and 1)\n",
    "        data = seg & (risk_flag_data == flag)\n",
    "        if data.any():\n",
    "            if marker == 'o':  # Change the color for 'o' marker\n",
    "                plt.plot(income_data[data], job_years_data[data], marker=marker, markersize=2, linestyle='', color='black')\n",
    "            else:\n",
    "                plt.plot(income_data[data], job_years_data[data], marker=marker, markersize=2, linestyle='', color=color)\n",
    "    \n",
    "    # Print the number of 'x' and 'o' markers in the current block\n",
    "    num_x = sum((risk_flag_data[seg] == 0) & (income_data[seg] >= 0) & (job_years_data[seg] >= 0))\n",
    "    num_o = sum((risk_flag_data[seg] == 1) & (income_data[seg] >= 0) & (job_years_data[seg] >= 0))\n",
    "    print(f\"Block: {color}, 'x' count: {num_x}, 'o' count: {num_o}\")\n",
    "\n",
    "plt.xlabel('Income')\n",
    "plt.ylabel('Current Job Years')\n",
    "plt.xscale('log')  # Set x-axis to logarithmic scale\n",
    "plt.yticks([0, 5, 10], ['0', '5', '10'])  # Set custom ticks and labels for y-axis\n",
    "plt.ylim(0, 15)     # Set y-axis range from 0 to 14\n",
    "plt.grid(True)     # Show grid\n",
    "plt.title('Plot of Income vs Current Job Years')\n",
    "plt.legend()\n",
    "plt.figure(figsize=(20,12))\n",
    "plt.show()"
   ]
  },
  {
   "cell_type": "code",
   "execution_count": null,
   "id": "098fa7e9",
   "metadata": {},
   "outputs": [],
   "source": []
  }
 ],
 "metadata": {
  "kernelspec": {
   "display_name": "Python 3 (ipykernel)",
   "language": "python",
   "name": "python3"
  },
  "language_info": {
   "codemirror_mode": {
    "name": "ipython",
    "version": 3
   },
   "file_extension": ".py",
   "mimetype": "text/x-python",
   "name": "python",
   "nbconvert_exporter": "python",
   "pygments_lexer": "ipython3",
   "version": "3.9.12"
  }
 },
 "nbformat": 4,
 "nbformat_minor": 5
}
