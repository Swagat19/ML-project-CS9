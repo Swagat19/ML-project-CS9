{
 "cells": [
  {
   "cell_type": "code",
   "execution_count": 2,
   "id": "5e1bf46e",
   "metadata": {},
   "outputs": [
    {
     "name": "stdout",
     "output_type": "stream",
     "text": [
      "is data clean :-  True\n"
     ]
    }
   ],
   "source": [
    "import pandas as pd\n",
    "data = pd.read_csv('Training Data.csv');\n",
    "print(\"is data clean :- \" , data.notnull().values.all())  # data is clean\n",
    "\n",
    "\n",
    "input_data1 = data.copy()\n",
    "input_data1.drop(['CITY','STATE','Risk_Flag'],axis = 1 ,inplace = True)\n",
    "\n"
   ]
  },
  {
   "cell_type": "markdown",
   "id": "c18286d7",
   "metadata": {},
   "source": [
    "## For married/single"
   ]
  },
  {
   "cell_type": "code",
   "execution_count": 3,
   "id": "836cddb1",
   "metadata": {},
   "outputs": [
    {
     "name": "stdout",
     "output_type": "stream",
     "text": [
      "0    226272\n",
      "1     25728\n",
      "Name: Married/Single, dtype: int64\n"
     ]
    }
   ],
   "source": [
    "input_data1['Married/Single'] = input_data1['Married/Single'].apply(lambda x : 1 if  x == 'married' else 0 )\n",
    "print(input_data1['Married/Single'].value_counts())"
   ]
  },
  {
   "cell_type": "markdown",
   "id": "544e826e",
   "metadata": {},
   "source": [
    "## For House Ownership"
   ]
  },
  {
   "cell_type": "code",
   "execution_count": 4,
   "id": "f24c49c1",
   "metadata": {},
   "outputs": [
    {
     "name": "stdout",
     "output_type": "stream",
     "text": [
      "rented          231898\n",
      "owned            12918\n",
      "norent_noown      7184\n",
      "Name: House_Ownership, dtype: int64\n",
      "0    231898\n",
      "2     12918\n",
      "1      7184\n",
      "Name: House_Ownership, dtype: int64\n"
     ]
    }
   ],
   "source": [
    "print(input_data1['House_Ownership'].value_counts())\n",
    "ownership_mapping = {'rented': 0, 'norent_noown': 1, 'owned': 2}\n",
    "input_data1['House_Ownership'] = input_data1['House_Ownership'].map(ownership_mapping)\n",
    "print(input_data1['House_Ownership'].value_counts())"
   ]
  },
  {
   "cell_type": "markdown",
   "id": "a319ae65",
   "metadata": {},
   "source": [
    "## car_ownership"
   ]
  },
  {
   "cell_type": "code",
   "execution_count": 5,
   "id": "7a949e0a",
   "metadata": {},
   "outputs": [
    {
     "data": {
      "text/plain": [
       "0    176000\n",
       "1     76000\n",
       "Name: Car_Ownership, dtype: int64"
      ]
     },
     "execution_count": 5,
     "metadata": {},
     "output_type": "execute_result"
    }
   ],
   "source": [
    "input_data1['Car_Ownership'].value_counts()\n",
    "input_data1['Car_Ownership'] = input_data1['Car_Ownership'].apply(lambda x : 1 if  x == 'yes' else 0 )\n",
    "input_data1['Car_Ownership'].value_counts()"
   ]
  },
  {
   "cell_type": "markdown",
   "id": "f7492356",
   "metadata": {},
   "source": [
    "## Profession"
   ]
  },
  {
   "cell_type": "code",
   "execution_count": 11,
   "id": "eee878e5",
   "metadata": {},
   "outputs": [
    {
     "name": "stdout",
     "output_type": "stream",
     "text": [
      "number of professions :-  51\n",
      "average salary of each profession :-\n",
      "  Profession\n",
      "Air traffic controller        4,958,421.71\n",
      "Analyst                       4,894,181.21\n",
      "Architect                     5,004,078.75\n",
      "Army officer                  5,094,472.73\n",
      "Artist                        5,164,765.18\n",
      "Aviator                       5,074,103.52\n",
      "Biomedical Engineer           4,982,527.56\n",
      "Chartered Accountant          5,002,232.42\n",
      "Chef                          4,839,915.14\n",
      "Chemical engineer             5,189,804.99\n",
      "Civil engineer                4,755,441.02\n",
      "Civil servant                 4,947,842.64\n",
      "Comedian                      5,199,538.53\n",
      "Computer hardware engineer    4,989,531.17\n",
      "Computer operator             5,112,549.85\n",
      "Consultant                    5,138,435.81\n",
      "Dentist                       4,948,818.69\n",
      "Design Engineer               4,840,220.61\n",
      "Designer                      5,336,802.23\n",
      "Drafter                       4,654,804.63\n",
      "Economist                     4,916,001.92\n",
      "Engineer                      4,814,755.19\n",
      "Fashion Designer              5,070,883.08\n",
      "Financial Analyst             5,145,752.51\n",
      "Firefighter                   5,046,134.01\n",
      "Flight attendant              4,592,177.01\n",
      "Geologist                     4,879,361.63\n",
      "Graphic Designer              4,900,447.05\n",
      "Hotel Manager                 4,996,878.34\n",
      "Industrial Engineer           5,060,502.18\n",
      "Lawyer                        5,128,131.46\n",
      "Librarian                     5,007,589.70\n",
      "Magistrate                    4,769,919.82\n",
      "Mechanical engineer           5,175,032.07\n",
      "Microbiologist                5,035,358.00\n",
      "Official                      4,737,617.36\n",
      "Petroleum Engineer            5,443,309.83\n",
      "Physician                     4,780,383.77\n",
      "Police officer                4,502,915.76\n",
      "Politician                    4,913,567.98\n",
      "Psychologist                  5,357,795.26\n",
      "Scientist                     5,282,710.42\n",
      "Secretary                     5,102,879.89\n",
      "Software Developer            4,891,296.09\n",
      "Statistician                  5,028,648.27\n",
      "Surgeon                       5,235,358.71\n",
      "Surveyor                      5,112,352.28\n",
      "Technical writer              4,922,265.75\n",
      "Technician                    4,971,491.56\n",
      "Technology specialist         4,985,643.17\n",
      "Web designer                  4,893,094.55\n",
      "Name: Income, dtype: object\n",
      "{'Police officer': 0, 'Flight attendant': 1, 'Drafter': 2, 'Official': 3, 'Civil engineer': 4, 'Magistrate': 5, 'Physician': 6, 'Engineer': 7, 'Chef': 8, 'Design Engineer': 9, 'Geologist': 10, 'Software Developer': 11, 'Web designer': 12, 'Analyst': 13, 'Graphic Designer': 14, 'Politician': 15, 'Economist': 16, 'Technical writer': 17, 'Civil servant': 18, 'Dentist': 19, 'Air traffic controller': 20, 'Technician': 21, 'Biomedical Engineer': 22, 'Technology specialist': 23, 'Computer hardware engineer': 24, 'Hotel Manager': 25, 'Chartered Accountant': 26, 'Architect': 27, 'Librarian': 28, 'Statistician': 29, 'Microbiologist': 30, 'Firefighter': 31, 'Industrial Engineer': 32, 'Fashion Designer': 33, 'Aviator': 34, 'Army officer': 35, 'Secretary': 36, 'Surveyor': 37, 'Computer operator': 38, 'Lawyer': 39, 'Consultant': 40, 'Financial Analyst': 41, 'Artist': 42, 'Mechanical engineer': 43, 'Chemical engineer': 44, 'Comedian': 45, 'Surgeon': 46, 'Scientist': 47, 'Designer': 48, 'Psychologist': 49, 'Petroleum Engineer': 50}\n",
      "6     5957\n",
      "29    5806\n",
      "12    5397\n",
      "49    5390\n",
      "24    5372\n",
      "2     5359\n",
      "5     5357\n",
      "33    5304\n",
      "20    5281\n",
      "45    5259\n",
      "32    5250\n",
      "43    5217\n",
      "44    5205\n",
      "17    5195\n",
      "25    5178\n",
      "41    5167\n",
      "14    5166\n",
      "1     5128\n",
      "22    5127\n",
      "36    5061\n",
      "11    5053\n",
      "50    5041\n",
      "0     5035\n",
      "38    4990\n",
      "15    4944\n",
      "30    4881\n",
      "21    4864\n",
      "42    4861\n",
      "39    4818\n",
      "40    4808\n",
      "19    4782\n",
      "47    4781\n",
      "46    4772\n",
      "34    4758\n",
      "23    4737\n",
      "9     4729\n",
      "37    4714\n",
      "10    4672\n",
      "13    4668\n",
      "35    4661\n",
      "27    4657\n",
      "8     4635\n",
      "28    4628\n",
      "4     4616\n",
      "48    4598\n",
      "16    4573\n",
      "31    4507\n",
      "26    4493\n",
      "18    4413\n",
      "3     4087\n",
      "7     4048\n",
      "Name: Profession_Encoded, dtype: int64\n"
     ]
    }
   ],
   "source": [
    "input_data1['Profession'] = input_data1['Profession'].str.replace('_', ' ')\n",
    "\n",
    "print(\"number of professions :- \",input_data1['Profession'].nunique())\n",
    "\n",
    "average_income_by_profession = input_data1.groupby('Profession')['Income'].mean()\n",
    "# Format the numbers without scientific notation and with commas as thousand separators\n",
    "average_income_by_profession = average_income_by_profession.apply(lambda x: \"{:,.2f}\".format(x))\n",
    "\n",
    "print(\"average salary of each profession :-\\n \",average_income_by_profession)\n",
    "\n",
    "# Create a mapping for encoding based on average income\n",
    "profession_encoding = dict(zip(average_income_by_profession.sort_values().index, range(input_data1['Profession'].nunique())))\n",
    "print(profession_encoding)\n",
    "\n",
    "# Save the DataFrame to a CSV file this will be used to encoding test data based on training data\n",
    "df = pd.DataFrame(list(profession_encoding.items()), columns=['Profession', 'Rank'])\n",
    "df.to_csv('profession_rank.csv', index=False)\n",
    "\n",
    "\n",
    "# Apply the mapping to create a new column 'Profession_Encoded'\n",
    "input_data1['Profession_Encoded'] = input_data1['Profession'].map(profession_encoding)\n",
    "print(input_data1['Profession_Encoded'].value_counts() )\n"
   ]
  },
  {
   "cell_type": "code",
   "execution_count": 12,
   "id": "bbaadb08",
   "metadata": {},
   "outputs": [
    {
     "name": "stdout",
     "output_type": "stream",
     "text": [
      "            Id   Income  Age  Experience  Married/Single  House_Ownership  \\\n",
      "0            1  1303834   23           3               0                0   \n",
      "1            2  7574516   40          10               0                0   \n",
      "2            3  3991815   66           4               1                0   \n",
      "3            4  6256451   41           2               0                0   \n",
      "4            5  5768871   47          11               0                0   \n",
      "...        ...      ...  ...         ...             ...              ...   \n",
      "251995  251996  8154883   43          13               0                0   \n",
      "251996  251997  2843572   26          10               0                0   \n",
      "251997  251998  4522448   46           7               0                0   \n",
      "251998  251999  6507128   45           0               0                0   \n",
      "251999  252000  9070230   70          17               0                0   \n",
      "\n",
      "        Car_Ownership  CURRENT_JOB_YRS  CURRENT_HOUSE_YRS  Profession_Encoded  \n",
      "0                   0                3                 13                  43  \n",
      "1                   0                9                 13                  11  \n",
      "2                   0                4                 10                  17  \n",
      "3                   1                2                 12                  11  \n",
      "4                   0                3                 14                  18  \n",
      "...               ...              ...                ...                 ...  \n",
      "251995              0                6                 11                  46  \n",
      "251996              0                6                 11                  35  \n",
      "251997              0                7                 12                   9  \n",
      "251998              0                0                 10                  14  \n",
      "251999              0                7                 11                  29  \n",
      "\n",
      "[252000 rows x 10 columns]\n",
      "            Id  Risk_Flag\n",
      "0            1          0\n",
      "1            2          0\n",
      "2            3          0\n",
      "3            4          1\n",
      "4            5          1\n",
      "...        ...        ...\n",
      "251995  251996          0\n",
      "251996  251997          0\n",
      "251997  251998          0\n",
      "251998  251999          0\n",
      "251999  252000          0\n",
      "\n",
      "[252000 rows x 2 columns]\n"
     ]
    }
   ],
   "source": [
    "input_data1_final = input_data1.copy()\n",
    "input_data1_final.drop(['Profession'],axis = 1,inplace = True)\n",
    "print(input_data1_final)\n",
    "output_data1 = data.filter(['Id','Risk_Flag'])\n",
    "print(output_data1)"
   ]
  },
  {
   "cell_type": "code",
   "execution_count": 13,
   "id": "c6f124ac",
   "metadata": {},
   "outputs": [
    {
     "name": "stdout",
     "output_type": "stream",
     "text": [
      "    Income  Age  Experience  Married/Single  House_Ownership  Car_Ownership  \\\n",
      "0  1303834   23           3               0                0              0   \n",
      "1  7574516   40          10               0                0              0   \n",
      "2  3991815   66           4               1                0              0   \n",
      "3  6256451   41           2               0                0              1   \n",
      "4  5768871   47          11               0                0              0   \n",
      "5  6915937   64           0               0                0              0   \n",
      "6  3954973   58          14               1                0              0   \n",
      "7  1706172   33           2               0                0              0   \n",
      "8  7566849   24          17               0                0              1   \n",
      "9  8964846   23          12               0                0              0   \n",
      "\n",
      "   CURRENT_JOB_YRS  CURRENT_HOUSE_YRS  Profession_Encoded  \n",
      "0                3                 13                  43  \n",
      "1                9                 13                  11  \n",
      "2                4                 10                  17  \n",
      "3                2                 12                  11  \n",
      "4                3                 14                  18  \n",
      "5                0                 12                  18  \n",
      "6                8                 12                  28  \n",
      "7                2                 14                  16  \n",
      "8               11                 11                   1  \n",
      "9                5                 13                  27  \n",
      "   Risk_Flag\n",
      "0          0\n",
      "1          0\n",
      "2          0\n",
      "3          1\n",
      "4          1\n",
      "5          0\n",
      "6          0\n",
      "7          0\n",
      "8          0\n",
      "9          0\n"
     ]
    }
   ],
   "source": [
    "# Remove id from both\n",
    "train_X = input_data1_final.copy()\n",
    "train_X.drop(['Id'],axis = 1 , inplace = True )\n",
    "train_Y = output_data1.copy()\n",
    "train_Y.drop(['Id'],axis = 1 , inplace = True)\n",
    "print(train_X.head(10))\n",
    "print(train_Y.head(10))"
   ]
  },
  {
   "cell_type": "code",
   "execution_count": 14,
   "id": "b9e5ac1a",
   "metadata": {},
   "outputs": [],
   "source": [
    "# make array of target variable\n",
    "Y_train = train_Y['Risk_Flag'].values"
   ]
  },
  {
   "cell_type": "code",
   "execution_count": 15,
   "id": "9c7a8686",
   "metadata": {},
   "outputs": [],
   "source": [
    "# Load test data\n",
    "x_test = pd.read_csv('test_x.csv')\n",
    "y_test = pd.read_csv('test_y.csv')"
   ]
  },
  {
   "cell_type": "code",
   "execution_count": 16,
   "id": "a7d65224",
   "metadata": {},
   "outputs": [
    {
     "name": "stdout",
     "output_type": "stream",
     "text": [
      "Is input pure :-  True\n"
     ]
    }
   ],
   "source": [
    "# check if values are pure\n",
    "print(\"Is input pure :- \",x_test.notnull().values.all())\n"
   ]
  },
  {
   "cell_type": "code",
   "execution_count": 17,
   "id": "e7bdfe42",
   "metadata": {},
   "outputs": [],
   "source": [
    "from sklearn.ensemble import RandomForestClassifier\n",
    "model = RandomForestClassifier(n_estimators = 100 ,max_samples = 1.0, criterion = 'gini', max_depth = 3,min_samples_split = 10 , min_samples_leaf = 1 )"
   ]
  },
  {
   "cell_type": "code",
   "execution_count": 18,
   "id": "d62e7d04",
   "metadata": {},
   "outputs": [
    {
     "data": {
      "text/html": [
       "<style>#sk-container-id-1 {color: black;}#sk-container-id-1 pre{padding: 0;}#sk-container-id-1 div.sk-toggleable {background-color: white;}#sk-container-id-1 label.sk-toggleable__label {cursor: pointer;display: block;width: 100%;margin-bottom: 0;padding: 0.3em;box-sizing: border-box;text-align: center;}#sk-container-id-1 label.sk-toggleable__label-arrow:before {content: \"▸\";float: left;margin-right: 0.25em;color: #696969;}#sk-container-id-1 label.sk-toggleable__label-arrow:hover:before {color: black;}#sk-container-id-1 div.sk-estimator:hover label.sk-toggleable__label-arrow:before {color: black;}#sk-container-id-1 div.sk-toggleable__content {max-height: 0;max-width: 0;overflow: hidden;text-align: left;background-color: #f0f8ff;}#sk-container-id-1 div.sk-toggleable__content pre {margin: 0.2em;color: black;border-radius: 0.25em;background-color: #f0f8ff;}#sk-container-id-1 input.sk-toggleable__control:checked~div.sk-toggleable__content {max-height: 200px;max-width: 100%;overflow: auto;}#sk-container-id-1 input.sk-toggleable__control:checked~label.sk-toggleable__label-arrow:before {content: \"▾\";}#sk-container-id-1 div.sk-estimator input.sk-toggleable__control:checked~label.sk-toggleable__label {background-color: #d4ebff;}#sk-container-id-1 div.sk-label input.sk-toggleable__control:checked~label.sk-toggleable__label {background-color: #d4ebff;}#sk-container-id-1 input.sk-hidden--visually {border: 0;clip: rect(1px 1px 1px 1px);clip: rect(1px, 1px, 1px, 1px);height: 1px;margin: -1px;overflow: hidden;padding: 0;position: absolute;width: 1px;}#sk-container-id-1 div.sk-estimator {font-family: monospace;background-color: #f0f8ff;border: 1px dotted black;border-radius: 0.25em;box-sizing: border-box;margin-bottom: 0.5em;}#sk-container-id-1 div.sk-estimator:hover {background-color: #d4ebff;}#sk-container-id-1 div.sk-parallel-item::after {content: \"\";width: 100%;border-bottom: 1px solid gray;flex-grow: 1;}#sk-container-id-1 div.sk-label:hover label.sk-toggleable__label {background-color: #d4ebff;}#sk-container-id-1 div.sk-serial::before {content: \"\";position: absolute;border-left: 1px solid gray;box-sizing: border-box;top: 0;bottom: 0;left: 50%;z-index: 0;}#sk-container-id-1 div.sk-serial {display: flex;flex-direction: column;align-items: center;background-color: white;padding-right: 0.2em;padding-left: 0.2em;position: relative;}#sk-container-id-1 div.sk-item {position: relative;z-index: 1;}#sk-container-id-1 div.sk-parallel {display: flex;align-items: stretch;justify-content: center;background-color: white;position: relative;}#sk-container-id-1 div.sk-item::before, #sk-container-id-1 div.sk-parallel-item::before {content: \"\";position: absolute;border-left: 1px solid gray;box-sizing: border-box;top: 0;bottom: 0;left: 50%;z-index: -1;}#sk-container-id-1 div.sk-parallel-item {display: flex;flex-direction: column;z-index: 1;position: relative;background-color: white;}#sk-container-id-1 div.sk-parallel-item:first-child::after {align-self: flex-end;width: 50%;}#sk-container-id-1 div.sk-parallel-item:last-child::after {align-self: flex-start;width: 50%;}#sk-container-id-1 div.sk-parallel-item:only-child::after {width: 0;}#sk-container-id-1 div.sk-dashed-wrapped {border: 1px dashed gray;margin: 0 0.4em 0.5em 0.4em;box-sizing: border-box;padding-bottom: 0.4em;background-color: white;}#sk-container-id-1 div.sk-label label {font-family: monospace;font-weight: bold;display: inline-block;line-height: 1.2em;}#sk-container-id-1 div.sk-label-container {text-align: center;}#sk-container-id-1 div.sk-container {/* jupyter's `normalize.less` sets `[hidden] { display: none; }` but bootstrap.min.css set `[hidden] { display: none !important; }` so we also need the `!important` here to be able to override the default hidden behavior on the sphinx rendered scikit-learn.org. See: https://github.com/scikit-learn/scikit-learn/issues/21755 */display: inline-block !important;position: relative;}#sk-container-id-1 div.sk-text-repr-fallback {display: none;}</style><div id=\"sk-container-id-1\" class=\"sk-top-container\"><div class=\"sk-text-repr-fallback\"><pre>RandomForestClassifier(max_depth=3, max_samples=1.0, min_samples_split=10)</pre><b>In a Jupyter environment, please rerun this cell to show the HTML representation or trust the notebook. <br />On GitHub, the HTML representation is unable to render, please try loading this page with nbviewer.org.</b></div><div class=\"sk-container\" hidden><div class=\"sk-item\"><div class=\"sk-estimator sk-toggleable\"><input class=\"sk-toggleable__control sk-hidden--visually\" id=\"sk-estimator-id-1\" type=\"checkbox\" checked><label for=\"sk-estimator-id-1\" class=\"sk-toggleable__label sk-toggleable__label-arrow\">RandomForestClassifier</label><div class=\"sk-toggleable__content\"><pre>RandomForestClassifier(max_depth=3, max_samples=1.0, min_samples_split=10)</pre></div></div></div></div></div>"
      ],
      "text/plain": [
       "RandomForestClassifier(max_depth=3, max_samples=1.0, min_samples_split=10)"
      ]
     },
     "execution_count": 18,
     "metadata": {},
     "output_type": "execute_result"
    }
   ],
   "source": [
    "model.fit(train_X,Y_train)"
   ]
  },
  {
   "cell_type": "code",
   "execution_count": 21,
   "id": "647ef3ae",
   "metadata": {},
   "outputs": [],
   "source": [
    "x_test.head(10)\n",
    "test_y = y_test['Risk_Flag'].values"
   ]
  },
  {
   "cell_type": "code",
   "execution_count": 22,
   "id": "5fb4b087",
   "metadata": {},
   "outputs": [
    {
     "name": "stdout",
     "output_type": "stream",
     "text": [
      "87.16785714285714 %\n"
     ]
    }
   ],
   "source": [
    "print(model.score(x_test,test_y)*100 , \"%\")"
   ]
  }
 ],
 "metadata": {
  "kernelspec": {
   "display_name": "Python 3 (ipykernel)",
   "language": "python",
   "name": "python3"
  },
  "language_info": {
   "codemirror_mode": {
    "name": "ipython",
    "version": 3
   },
   "file_extension": ".py",
   "mimetype": "text/x-python",
   "name": "python",
   "nbconvert_exporter": "python",
   "pygments_lexer": "ipython3",
   "version": "3.9.12"
  }
 },
 "nbformat": 4,
 "nbformat_minor": 5
}
